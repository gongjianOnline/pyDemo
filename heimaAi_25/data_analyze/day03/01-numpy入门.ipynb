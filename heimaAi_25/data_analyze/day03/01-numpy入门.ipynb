{
 "cells": [
  {
   "cell_type": "code",
   "id": "initial_id",
   "metadata": {
    "collapsed": true,
    "ExecuteTime": {
     "end_time": "2025-10-11T03:20:44.473716Z",
     "start_time": "2025-10-11T03:20:44.469676Z"
    }
   },
   "source": [
    "import numpy as  np\n",
    "\n",
    "arr = np.array([1,2,3,4,5])\n",
    "print(arr)\n",
    "print(type(arr))"
   ],
   "outputs": [
    {
     "name": "stdout",
     "output_type": "stream",
     "text": [
      "[1 2 3 4 5]\n",
      "<class 'numpy.ndarray'>\n"
     ]
    }
   ],
   "execution_count": 3
  },
  {
   "metadata": {},
   "cell_type": "markdown",
   "source": "# numpy 属性",
   "id": "69313260bb2a8c5"
  },
  {
   "metadata": {
    "ExecuteTime": {
     "end_time": "2025-10-11T05:14:39.806737Z",
     "start_time": "2025-10-11T05:14:39.790086Z"
    }
   },
   "cell_type": "code",
   "source": [
    "# 构建 3行5列的 ndarray对象(n维数组)\n",
    "arr = np.arange(15).reshape(3,5)\n",
    "print(f'数组的形状(维度):{np.shape(arr)}')\n",
    "print(f'数组的轴:{np.ndim(arr)}')\n",
    "print(f'数组的长度:{np.size(arr)}')\n",
    "print(f'数组的每个元素的大小(字节数):{arr.itemsize}')\n",
    "print(f'数组的类型:{type(arr)}')\n",
    "\n",
    "\n"
   ],
   "id": "511aacd6e50cc12f",
   "outputs": [
    {
     "name": "stdout",
     "output_type": "stream",
     "text": [
      "数组的形状(维度):(3, 5)\n",
      "数组的轴:2\n",
      "数组的长度:15\n",
      "数组的每个元素的大小(字节数):4\n",
      "数组的类型:<class 'numpy.ndarray'>\n"
     ]
    }
   ],
   "execution_count": 9
  },
  {
   "metadata": {},
   "cell_type": "markdown",
   "source": [
    "# 创建 ndarray 对象\n",
    "### 3.1 把 python 列表封装成 ndarray 对象"
   ],
   "id": "f0754e53d5676e57"
  },
  {
   "metadata": {
    "ExecuteTime": {
     "end_time": "2025-10-11T06:07:51.359864Z",
     "start_time": "2025-10-11T06:07:51.318131Z"
    }
   },
   "cell_type": "code",
   "source": [
    "# int 数组\n",
    "arr1 = np.array([1,2,3,4,5])\n",
    "print(arr1)\n",
    "# float 数组\n",
    "arr2 = np.array([1.2,1.3,1.4])\n",
    "print(arr2)"
   ],
   "id": "3cc257a862f44546",
   "outputs": [
    {
     "name": "stdout",
     "output_type": "stream",
     "text": [
      "[1 2 3 4 5]\n",
      "[1.2 1.3 1.4]\n"
     ]
    }
   ],
   "execution_count": 11
  },
  {
   "metadata": {},
   "cell_type": "markdown",
   "source": "### 3.2 zeros() / ones() / empty() 函数创建 ndarray 对象",
   "id": "becad719944d7d39"
  },
  {
   "metadata": {
    "ExecuteTime": {
     "end_time": "2025-10-11T06:14:06.328087Z",
     "start_time": "2025-10-11T06:14:06.322401Z"
    }
   },
   "cell_type": "code",
   "source": [
    "# zeros() 创建全是 0 的数组,即 ndarray 对象\n",
    "arr3 = np.zeros((2,3))\n",
    "print(arr3)"
   ],
   "id": "f970ff36e55ba0c0",
   "outputs": [
    {
     "name": "stdout",
     "output_type": "stream",
     "text": [
      "[[0. 0. 0.]\n",
      " [0. 0. 0.]]\n"
     ]
    }
   ],
   "execution_count": 13
  },
  {
   "metadata": {
    "ExecuteTime": {
     "end_time": "2025-10-11T06:15:01.874341Z",
     "start_time": "2025-10-11T06:15:01.864655Z"
    }
   },
   "cell_type": "code",
   "source": [
    "# ones() 创建全是 1 的数组,即 ndarray对象\n",
    "arr4 = np.ones((2,3))\n",
    "print(arr4)"
   ],
   "id": "6bf7f39e94285b5d",
   "outputs": [
    {
     "name": "stdout",
     "output_type": "stream",
     "text": [
      "[[1. 1. 1.]\n",
      " [1. 1. 1.]]\n"
     ]
    }
   ],
   "execution_count": 14
  },
  {
   "metadata": {
    "ExecuteTime": {
     "end_time": "2025-10-11T06:24:45.829615Z",
     "start_time": "2025-10-11T06:24:45.825346Z"
    }
   },
   "cell_type": "code",
   "source": [
    "# empty() 创建内容随机,且以来内存状态的随机值\n",
    "arr5 = np.empty((2,3))\n",
    "print(arr5)"
   ],
   "id": "33ff1ae00e34e7e6",
   "outputs": [
    {
     "name": "stdout",
     "output_type": "stream",
     "text": [
      "[[1. 1. 1.]\n",
      " [1. 1. 1.]]\n"
     ]
    }
   ],
   "execution_count": 495
  },
  {
   "metadata": {},
   "cell_type": "markdown",
   "source": "### 3.3 arange() 函数,创建 ndarray 对象",
   "id": "e1da9111a2c6f889"
  },
  {
   "metadata": {
    "ExecuteTime": {
     "end_time": "2025-10-11T06:31:09.402226Z",
     "start_time": "2025-10-11T06:31:09.397313Z"
    }
   },
   "cell_type": "code",
   "source": [
    "# arange(起始值,结束值,步长,类型) 类似 python 的 range()\n",
    "arr6 = np.arange(1,5,3,dtype=np.int64)\n",
    "print(arr6)\n"
   ],
   "id": "5b588cd8a761cf6b",
   "outputs": [
    {
     "name": "stdout",
     "output_type": "stream",
     "text": [
      "[1 4]\n"
     ]
    }
   ],
   "execution_count": 669
  },
  {
   "metadata": {},
   "cell_type": "markdown",
   "source": "### 3.4 matrix() 生成二位数组",
   "id": "a73ccc95356f3886"
  },
  {
   "metadata": {
    "ExecuteTime": {
     "end_time": "2025-10-11T06:42:14.796019Z",
     "start_time": "2025-10-11T06:42:14.789253Z"
    }
   },
   "cell_type": "code",
   "source": [
    "# matrix() 属于 ndarray 的子集,生成 二维数组\n",
    "arr7 = np.mat('1 2; 3 4; 5 6')\n",
    "print(arr7)"
   ],
   "id": "ff901138a17c7a16",
   "outputs": [
    {
     "name": "stdout",
     "output_type": "stream",
     "text": [
      "[[1 2]\n",
      " [3 4]\n",
      " [5 6]]\n"
     ]
    }
   ],
   "execution_count": 672
  },
  {
   "metadata": {},
   "cell_type": "markdown",
   "source": "### 3.5 rand() randint() uniform() 生成 ndarray 对象",
   "id": "439ffe6600901faa"
  },
  {
   "metadata": {
    "ExecuteTime": {
     "end_time": "2025-10-11T06:45:30.037056Z",
     "start_time": "2025-10-11T06:45:30.018538Z"
    }
   },
   "cell_type": "code",
   "source": [
    "# rand() 生成 0.0 到 1.0 之间的随机数组,包左不包右\n",
    "arr8 = np.random.rand(2,3)\n",
    "print(f'数组对象:{arr8}')"
   ],
   "id": "e8fbbc90933d91e7",
   "outputs": [
    {
     "name": "stdout",
     "output_type": "stream",
     "text": [
      "数组对象:[[0.43059567 0.7529338  0.69109607]\n",
      " [0.14225813 0.69636405 0.83518308]]\n"
     ]
    }
   ],
   "execution_count": 673
  },
  {
   "metadata": {
    "ExecuteTime": {
     "end_time": "2025-10-11T06:49:31.126376Z",
     "start_time": "2025-10-11T06:49:31.120425Z"
    }
   },
   "cell_type": "code",
   "source": [
    "# randint() 生成指定范围之间的随机数组,包左不包右\n",
    "arr8 = np.random.randint(-1,5,size=(2,3)) # 2行3列 ,-1 ~ 5 之前的随机整数\n",
    "print(f'数组对象:{arr8}')"
   ],
   "id": "5b5763d42db99124",
   "outputs": [
    {
     "name": "stdout",
     "output_type": "stream",
     "text": [
      "数组对象:[[-1  2  2]\n",
      " [ 4  0 -1]]\n"
     ]
    }
   ],
   "execution_count": 700
  },
  {
   "metadata": {
    "ExecuteTime": {
     "end_time": "2025-10-11T06:52:25.971465Z",
     "start_time": "2025-10-11T06:52:25.966278Z"
    }
   },
   "cell_type": "code",
   "source": [
    "# uniform() 生成指定范围之间的随机小数,包左不包右\n",
    "arr9 = np.random.uniform(-1,5,size=(2,3))\n",
    "print(arr9)"
   ],
   "id": "9a65e89823d48c4d",
   "outputs": [
    {
     "name": "stdout",
     "output_type": "stream",
     "text": [
      "[[ 1.60984547 -0.06724437 -0.44424915]\n",
      " [ 3.81285357  3.7335037   2.46819611]]\n"
     ]
    }
   ],
   "execution_count": 715
  },
  {
   "metadata": {},
   "cell_type": "markdown",
   "source": "### 3.6 通过 astype() 函数, 把 ndarray => ndarray",
   "id": "bd106a8e82abc425"
  },
  {
   "metadata": {
    "ExecuteTime": {
     "end_time": "2025-10-11T07:09:20.377316Z",
     "start_time": "2025-10-11T07:09:20.363949Z"
    }
   },
   "cell_type": "code",
   "source": [
    "# 1. 创建1个 float 类型的数据\n",
    "arr11 = np.ones((2,3),dtype=np.float32)\n",
    "print(arr11)"
   ],
   "id": "270f69d269a96ca0",
   "outputs": [
    {
     "name": "stdout",
     "output_type": "stream",
     "text": [
      "[[1. 1. 1.]\n",
      " [1. 1. 1.]]\n"
     ]
    }
   ],
   "execution_count": 716
  },
  {
   "metadata": {
    "ExecuteTime": {
     "end_time": "2025-10-11T07:10:12.628589Z",
     "start_time": "2025-10-11T07:10:12.617593Z"
    }
   },
   "cell_type": "code",
   "source": [
    "# 2. 把 arr11 的元素类型,从 float32 => int64\n",
    "arr12 = arr11.astype(np.int64)\n",
    "print(arr12)"
   ],
   "id": "32688e1c74f6cb64",
   "outputs": [
    {
     "name": "stdout",
     "output_type": "stream",
     "text": [
      "[[1 1 1]\n",
      " [1 1 1]]\n"
     ]
    }
   ],
   "execution_count": 717
  },
  {
   "metadata": {},
   "cell_type": "markdown",
   "source": "### 3.7 通过 logspace 创建等比数列 和 linspace()等差数列",
   "id": "2699b25cd54254d9"
  },
  {
   "metadata": {},
   "cell_type": "markdown",
   "source": "",
   "id": "ae2b26914ac1f66a"
  },
  {
   "metadata": {
    "ExecuteTime": {
     "end_time": "2025-10-11T07:22:35.059168Z",
     "start_time": "2025-10-11T07:22:35.023873Z"
    }
   },
   "cell_type": "code",
   "source": [
    "# logspace(开始幂值,结束幂值,元素个数,base=底数)  生成 10^开始幂值 ~ -10^的结束幂值范围内的,指定个数的数据,底数默认是10,可以自定义\n",
    "arr13 = np.logspace(0,5,10,base=2) # 10^0 ~10^5之间,10个元素,等比数列\n",
    "print(arr13)"
   ],
   "id": "9cff274f8126f5e1",
   "outputs": [
    {
     "name": "stdout",
     "output_type": "stream",
     "text": [
      "[ 1.          1.46973449  2.16011948  3.1748021   4.66611616  6.85795186\n",
      " 10.0793684  14.8139954  21.77264    32.        ]\n"
     ]
    }
   ],
   "execution_count": 718
  },
  {
   "metadata": {
    "ExecuteTime": {
     "end_time": "2025-10-11T07:28:01.891090Z",
     "start_time": "2025-10-11T07:28:01.882968Z"
    }
   },
   "cell_type": "code",
   "source": [
    "# linspace(开始值,结束值,元素个数,endpoint=True|False)  生成起始值 ~ 结束值之间的,指定元素个数的值,等差数列,endpoint=True(默认),包含结束值 . False:不包含\n",
    "arr13 = np.linspace(0,5,5) # 0-5之间,5个数,等差数列\n",
    "print(arr13)"
   ],
   "id": "bacb02984de557",
   "outputs": [
    {
     "name": "stdout",
     "output_type": "stream",
     "text": [
      "[0.   1.25 2.5  3.75 5.  ]\n"
     ]
    }
   ],
   "execution_count": 720
  },
  {
   "metadata": {},
   "cell_type": "markdown",
   "source": "## ndarray 内置函数",
   "id": "2f99cd1a50ea733e"
  },
  {
   "metadata": {
    "ExecuteTime": {
     "end_time": "2025-10-11T07:51:39.314773Z",
     "start_time": "2025-10-11T07:51:39.266972Z"
    }
   },
   "cell_type": "code",
   "source": [
    "\"\"\"\n",
    "基本函数如下:\n",
    "    np.ceil() 向上取整\n",
    "    np.floor() 向下取整\n",
    "    np.rint() 四舍五入\n",
    "    np.isnan() 判断是否是nan\n",
    "    np.multiply() 元素相乘\n",
    "    np.divide() 元素相除\n",
    "    np.abs() 绝对值\n",
    "    np.where(condition,x,y) 三元运算符 x is condition else y\n",
    "\"\"\""
   ],
   "id": "10b3e1555c1bdd99",
   "outputs": [
    {
     "data": {
      "text/plain": [
       "'\\n\\n'"
      ]
     },
     "execution_count": 721,
     "metadata": {},
     "output_type": "execute_result"
    }
   ],
   "execution_count": 721
  },
  {
   "metadata": {},
   "cell_type": "markdown",
   "source": [
    "## 统计函数\n",
    "```python\n",
    "    np.mean(),np.sum(): 所有元素的平均值,所有元素的和,参数是 number 或 array\n",
    "    np.max(),np.min() 所有元素的最大值,所有元素的最小值,参数是 number 或 array\n",
    "    np.std() np.var() 所有元素的标准差,所有元素的方差,参数是 number 或 array\n",
    "    np.argmax() np.argmin() 最大值的下标索引值,最小的值下标索引值,参数是 number 或 array\n",
    "    np.cumsum() np.cumprod() 返回一个一维数组,每个元素都是之前所有元素的 累加和 和 累乘积,参数是 number 或 array\n",
    "```"
   ],
   "id": "6e68e86b4dd9249a"
  },
  {
   "metadata": {
    "ExecuteTime": {
     "end_time": "2025-10-11T08:19:26.469815Z",
     "start_time": "2025-10-11T08:19:26.460863Z"
    }
   },
   "cell_type": "code",
   "source": [
    "arr = np.arange(12).reshape(3,4)\n",
    "print(arr)\n",
    "print(np.mean(arr))\n",
    "print(np.sum(arr))\n",
    "print(np.max(arr))\n",
    "print(np.min(arr))\n",
    "print(np.std(arr))\n",
    "print(np.var(arr))\n",
    "print(np.argmax(arr))\n",
    "print(np.argmin(arr))\n",
    "print(np.cumsum(arr))\n",
    "print(np.cumprod(arr))"
   ],
   "id": "28c06b03fe97a965",
   "outputs": [
    {
     "name": "stdout",
     "output_type": "stream",
     "text": [
      "[[ 0  1  2  3]\n",
      " [ 4  5  6  7]\n",
      " [ 8  9 10 11]]\n",
      "5.5\n",
      "66\n",
      "11\n",
      "0\n",
      "3.452052529534663\n",
      "11.916666666666666\n",
      "11\n",
      "0\n",
      "[ 0  1  3  6 10 15 21 28 36 45 55 66]\n",
      "[0 0 0 0 0 0 0 0 0 0 0 0]\n"
     ]
    }
   ],
   "execution_count": 732
  },
  {
   "metadata": {},
   "cell_type": "markdown",
   "source": "### 比较函数",
   "id": "e78b670919fbd345"
  },
  {
   "metadata": {
    "ExecuteTime": {
     "end_time": "2025-10-11T08:28:46.079806Z",
     "start_time": "2025-10-11T08:28:46.065893Z"
    }
   },
   "cell_type": "code",
   "source": [
    "# any() 任意一个元素即可,返回true\n",
    "# all() 所有元素都要满足,返回False\n",
    "arr = np.random.randn(2,3) # 两行三列的 正态分布的数据\n",
    "print(arr)\n",
    "print(np.any(arr > 0))\n",
    "print(np.all(arr > 0))"
   ],
   "id": "dd8fb3d1bad9be84",
   "outputs": [
    {
     "name": "stdout",
     "output_type": "stream",
     "text": [
      "[[ 0.52488608 -0.00660269 -0.5005525 ]\n",
      " [-0.21095703  0.71877865 -1.38563466]]\n",
      "True\n",
      "False\n"
     ]
    }
   ],
   "execution_count": 734
  },
  {
   "metadata": {},
   "cell_type": "markdown",
   "source": "### 内置函数排序函数",
   "id": "c740091f68f8a031"
  },
  {
   "metadata": {
    "ExecuteTime": {
     "end_time": "2025-10-11T08:38:23.465486Z",
     "start_time": "2025-10-11T08:38:23.458934Z"
    }
   },
   "cell_type": "code",
   "source": [
    "# 方式1: np.sort(arr) 排序返回新的副本\n",
    "# 方式2: arr.sort() 直接修改原数组\n",
    "\n",
    "arr = np.array([1,4,5,2,3])\n",
    "# print(np.sort(arr))\n",
    "arr.sort()\n",
    "print(arr)"
   ],
   "id": "dd3c46a4233f193c",
   "outputs": [
    {
     "name": "stdout",
     "output_type": "stream",
     "text": [
      "[1 2 3 4 5]\n"
     ]
    }
   ],
   "execution_count": 743
  },
  {
   "metadata": {},
   "cell_type": "markdown",
   "source": "### 内置函数之去重函数",
   "id": "8dfe26806854a1e6"
  },
  {
   "metadata": {},
   "cell_type": "code",
   "outputs": [],
   "execution_count": null,
   "source": "",
   "id": "d20b4f1b4caff114"
  },
  {
   "metadata": {
    "ExecuteTime": {
     "end_time": "2025-10-11T09:19:18.423189Z",
     "start_time": "2025-10-11T09:19:18.384570Z"
    }
   },
   "cell_type": "code",
   "source": [
    "arr = np.array([[1,2,1,6],[1,2,3,4]])\n",
    "print(np.unique(arr))"
   ],
   "id": "eaf773da3283d380",
   "outputs": [
    {
     "name": "stdout",
     "output_type": "stream",
     "text": [
      "[1 2 3 4 6]\n"
     ]
    }
   ],
   "execution_count": 744
  },
  {
   "metadata": {},
   "cell_type": "markdown",
   "source": [
    "## 基本运算\n",
    "### 5.1 基本运算,即对应元素直接运算即可"
   ],
   "id": "699cac86e526f28d"
  },
  {
   "metadata": {
    "ExecuteTime": {
     "end_time": "2025-10-13T09:25:50.282273Z",
     "start_time": "2025-10-13T09:25:50.276968Z"
    }
   },
   "cell_type": "code",
   "source": [
    "import numpy as np\n",
    "arr1 = np.array([10,20,30,40])\n",
    "print(arr1)\n",
    "arr2 = np.arange(4)\n",
    "print(arr2)\n",
    "\n",
    "arr3 = arr1 + arr2\n",
    "print(arr3)\n",
    "\n",
    "arr4 = np.array([[1,2],[3,4]])\n",
    "arr5 = np.array([[1,2],[3,4]])\n",
    "arr6 = arr4 * arr5\n",
    "print(arr6)"
   ],
   "id": "e76a62c0d8e37fa7",
   "outputs": [
    {
     "name": "stdout",
     "output_type": "stream",
     "text": [
      "[10 20 30 40]\n",
      "[0 1 2 3]\n",
      "[10 21 32 43]\n",
      "[[ 1  4]\n",
      " [ 9 16]]\n"
     ]
    }
   ],
   "execution_count": 36
  },
  {
   "metadata": {},
   "cell_type": "markdown",
   "source": "### 5.2 行列数相反",
   "id": "778fc532ce0daa98"
  },
  {
   "metadata": {
    "ExecuteTime": {
     "end_time": "2025-10-13T09:23:52.139878Z",
     "start_time": "2025-10-13T09:23:52.124611Z"
    }
   },
   "cell_type": "code",
   "source": [
    "arr1 = np.array([[1,2,3],[4,5,6]])\n",
    "arr2 = np.array([[9,8],[1,2],[0,0]])\n",
    "\n",
    "arr3 = arr1.dot(arr2)\n",
    "print(arr3)"
   ],
   "id": "fe3ebf7ee2034217",
   "outputs": [
    {
     "name": "stdout",
     "output_type": "stream",
     "text": [
      "[[11 12]\n",
      " [41 42]]\n"
     ]
    }
   ],
   "execution_count": 25
  }
 ],
 "metadata": {
  "kernelspec": {
   "display_name": "Python 3",
   "language": "python",
   "name": "python3"
  },
  "language_info": {
   "codemirror_mode": {
    "name": "ipython",
    "version": 2
   },
   "file_extension": ".py",
   "mimetype": "text/x-python",
   "name": "python",
   "nbconvert_exporter": "python",
   "pygments_lexer": "ipython2",
   "version": "2.7.6"
  }
 },
 "nbformat": 4,
 "nbformat_minor": 5
}
