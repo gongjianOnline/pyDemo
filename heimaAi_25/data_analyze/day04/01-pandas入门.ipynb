{
 "cells": [
  {
   "metadata": {},
   "cell_type": "markdown",
   "source": [
    "# Series 对象的创建\n",
    "## 1.1 numpy 的 ndarray 转 Series 对象"
   ],
   "id": "a40bd094f1895b29"
  },
  {
   "metadata": {
    "ExecuteTime": {
     "end_time": "2025-10-20T01:35:02.398838Z",
     "start_time": "2025-10-20T01:34:58.936495Z"
    }
   },
   "cell_type": "code",
   "source": [
    "# 导包\n",
    "import numpy as np\n",
    "import  pandas as pd"
   ],
   "id": "bd4aec54eaf5c072",
   "outputs": [],
   "execution_count": 1
  },
  {
   "metadata": {},
   "cell_type": "code",
   "source": [
    "# 创建 ndarray 对象\n",
    "arr = np.array([1,2,3,4])\n",
    "print(arr)"
   ],
   "id": "78706859eb090f5c",
   "outputs": [],
   "execution_count": null
  },
  {
   "metadata": {},
   "cell_type": "code",
   "source": [
    "# 将上述的 ndarray 对象，转为 Series\n",
    "s1 = pd.Series(arr)\n",
    "print(s1)"
   ],
   "id": "838126dfda1172ff",
   "outputs": [],
   "execution_count": null
  },
  {
   "metadata": {},
   "cell_type": "markdown",
   "source": "## 1.2 直接传入 Python 列表,构建 Series 对象",
   "id": "e1e50b5c8274a337"
  },
  {
   "metadata": {},
   "cell_type": "code",
   "source": [
    "s2 = pd.Series([\"张三\",\"男\",33])\n",
    "print(s2 )"
   ],
   "id": "79f79f7eaa26838f",
   "outputs": [],
   "execution_count": null
  },
  {
   "metadata": {},
   "cell_type": "markdown",
   "source": "## 1.3传入 Python 列表,构建 Series 对象,并执行索引",
   "id": "964ef01e9c05bf31"
  },
  {
   "metadata": {
    "ExecuteTime": {
     "end_time": "2025-10-20T01:35:02.421861Z",
     "start_time": "2025-10-20T01:35:02.414364Z"
    }
   },
   "cell_type": "code",
   "source": [
    "s2 = pd.Series([\"张三\",\"男\",33],index=[\"name\",'sex','age'])\n",
    "print(s2)"
   ],
   "id": "d8f9dde9061afd48",
   "outputs": [
    {
     "name": "stdout",
     "output_type": "stream",
     "text": [
      "name    张三\n",
      "sex      男\n",
      "age     33\n",
      "dtype: object\n"
     ]
    }
   ],
   "execution_count": 2
  },
  {
   "metadata": {},
   "cell_type": "markdown",
   "source": "## 1.4 通过元组的方式创建",
   "id": "94af79de0ac24703"
  },
  {
   "metadata": {
    "ExecuteTime": {
     "end_time": "2025-10-20T01:35:06.857506Z",
     "start_time": "2025-10-20T01:35:06.852228Z"
    }
   },
   "cell_type": "code",
   "source": [
    "s2 = pd.Series((\"张三\",\"男\",33),index=[\"name\",'sex','age'])\n",
    "print(s2)"
   ],
   "id": "5920372317a55750",
   "outputs": [
    {
     "name": "stdout",
     "output_type": "stream",
     "text": [
      "name    张三\n",
      "sex      男\n",
      "age     33\n",
      "dtype: object\n"
     ]
    }
   ],
   "execution_count": 3
  },
  {
   "metadata": {},
   "cell_type": "markdown",
   "source": "## 1.5 通过字典的方式创建",
   "id": "18b041516a21f222"
  },
  {
   "metadata": {
    "ExecuteTime": {
     "end_time": "2025-10-20T01:35:09.230635Z",
     "start_time": "2025-10-20T01:35:09.225493Z"
    }
   },
   "cell_type": "code",
   "source": [
    "s2 = pd.Series({\"name\":\"张三\",\"sex\":\"男\",\"age\":33})\n",
    "print(s2)"
   ],
   "id": "76883531a6ab760d",
   "outputs": [
    {
     "name": "stdout",
     "output_type": "stream",
     "text": [
      "name    张三\n",
      "sex      男\n",
      "age     33\n",
      "dtype: object\n"
     ]
    }
   ],
   "execution_count": 4
  },
  {
   "metadata": {},
   "cell_type": "markdown",
   "source": [
    "# 2. 创建 DataFrame 对象\n",
    "## 2.1 字典方式构建 df 对象"
   ],
   "id": "25426f9a2fccbeb"
  },
  {
   "metadata": {
    "ExecuteTime": {
     "end_time": "2025-10-20T01:35:11.516566Z",
     "start_time": "2025-10-20T01:35:11.506366Z"
    }
   },
   "cell_type": "code",
   "source": [
    "dict_data = {\n",
    "    \"id\":[1,2,3],\n",
    "    \"name\":[\"张\",\"李\",\"王\"],\n",
    "    \"age\":[20,20,20]\n",
    "}\n",
    "df1 = pd.DataFrame(dict_data) # 字典方式,每组键值对 = 1列数据\n",
    "print(df1)"
   ],
   "id": "bd87c98f2a8e0e7a",
   "outputs": [
    {
     "name": "stdout",
     "output_type": "stream",
     "text": [
      "   id name  age\n",
      "0   1    张   20\n",
      "1   2    李   20\n",
      "2   3    王   20\n"
     ]
    }
   ],
   "execution_count": 5
  },
  {
   "metadata": {},
   "cell_type": "markdown",
   "source": "## 2.2 列表 + 元组方式构建df对象",
   "id": "4c381183ae218a3e"
  },
  {
   "metadata": {},
   "cell_type": "code",
   "source": [
    "list_data = [(1,\"乔峰\",33),(2,\"虚竹\",29),(3,\"段誉\",21)]\n",
    "df2 = pd.DataFrame(list_data,index=[\"x\",\"y\",\"z\"],columns=[\"id\",\"name\",\"age\"]) # 以行的方式传入数据,columns是设置:列名\n",
    "print(df2)"
   ],
   "id": "16b72f8b85ef46fe",
   "outputs": [],
   "execution_count": null
  },
  {
   "metadata": {},
   "cell_type": "markdown",
   "source": [
    "## Series 的常用属性方法\n",
    "如下:\n",
    "```python\n",
    "loc             根据 索引行 获取某行数据\n",
    "iloc            根据 行号 获取某行数据\n",
    "dtype 或 dtypes  获取Series 元素类型\n",
    "T               转置函数\n",
    "shape           维度\n",
    "size            大小(元素个数)\n",
    "values          获取所有的值\n",
    "index           获取所有的索引,功能类似于 keys() 方法\n",
    "```"
   ],
   "id": "383e603e904b16f9"
  },
  {
   "metadata": {},
   "cell_type": "code",
   "source": [
    "import os\n",
    "os.getcwd()"
   ],
   "id": "dac843ac7d26293c",
   "outputs": [],
   "execution_count": null
  },
  {
   "metadata": {},
   "cell_type": "code",
   "source": [
    "# 读取 nobel_prizes.csv 文件的内容,获取 df 对象\n",
    "df = pd.read_csv(\"data/nobel_prizes.csv\",index_col=\"id\") # index_col: 设置表中的某列为 索引列.\n",
    "df.head() # 默认获取 5 条数据"
   ],
   "id": "56a96a8f45a1a483",
   "outputs": [],
   "execution_count": null
  },
  {
   "metadata": {},
   "cell_type": "code",
   "source": [
    "# 2. 从上述的 df 对象中,获取第一行数据,即 Series对象\n",
    "# first_row = df.loc[941]\n",
    "# print(first_row)\n",
    "\n",
    "# 使用 iloc 属性: 根据行号获取\n",
    "first_row = df.iloc[0]\n",
    "first_row"
   ],
   "id": "c6fb1a3e9e9dc3b0",
   "outputs": [],
   "execution_count": null
  },
  {
   "metadata": {},
   "cell_type": "code",
   "source": [
    "# 3. Series 对象属性\n",
    "print(first_row.dtype) # 打印 Series 对象的元素类型.object(表示字符串)\n",
    "print(first_row['year'].dtype) # int64\n",
    "print(first_row['firstname'].dtype) # 报错 ,因为 str 属性中没有 dtype 属性"
   ],
   "id": "2b44621a2c544d9a",
   "outputs": [],
   "execution_count": null
  },
  {
   "metadata": {},
   "cell_type": "markdown",
   "source": "## Series 常用方法",
   "id": "ad8beddd25e3b035"
  },
  {
   "metadata": {},
   "cell_type": "code",
   "source": [
    "# 1. 构建 Series 对象\n",
    "s1 = pd.Series([1,2,3,4,5,6,6],index=['A','B','C','D','E',\"F\",\"G\"])\n",
    "print(s1)"
   ],
   "id": "ee14613437d7001d",
   "outputs": [],
   "execution_count": null
  },
  {
   "metadata": {},
   "cell_type": "code",
   "source": [
    "# 2. 演示 Series 对象的 常用方法\n",
    "# print(len(s1))            # 长度:6\n",
    "# print(s1.size)            # 长度:6\n",
    "# print(s1.head())          # 默认获取前 5 条\n",
    "# print(s1.head(n=2))       # 指定获取前 2 条\n",
    "\n",
    "# print(s1.tail())            # 默认获取后 5 条\n",
    "# print(s1.tail(n=3))         # 指定,获取后3条\n",
    "\n",
    "# print(s1.keys())            # 获取 Series 索引\n",
    "# print(s1.index)             # 获取 Series 索引\n",
    "#\n",
    "# print(s1.tolist())         # 转列表\n",
    "# print(s1.to_list())        # 转列表\n",
    "# print(type(s1.tolist()))   # <class 'list'>\n",
    "# print(s1.to_frame())       # 转成 DF 对象\n",
    "\n",
    "# print(s1.describe())       # 查看 Series 的详细信息, 例如: 最大值\\最小值\\平均值\\标准差等\n",
    "# print(s1.max())\n",
    "# print(s1.min())\n",
    "# print(s1.mean())\n",
    "# print(s1.std())             # 标准差\n",
    "\n",
    "# print(s1.drop_duplicates())    # 去重,返回 Series 对象\n",
    "# print(s1.unique())              # 去重,返回数组\n",
    "\n",
    "\n",
    "# print(s1.sort_values())         # 根据 值 排序,默认:升序\n",
    "# print(s1.sort_index(ascending=False))  # 根据 值 降序\n",
    "\n",
    "# print(s1.sort_index())              # 根据 索引 排序,默认 升序\n",
    "# print(s1.sort_index(ascending=False)) # 根据 索引 降序\n",
    "\n",
    "# print(s1.value_counts())        # 统计每个值出现的次数\n",
    "\n",
    "\n",
    "s1.hist()                   # 绘制 直方图\n",
    "\n"
   ],
   "id": "fb5f6275ce026677",
   "outputs": [],
   "execution_count": null
  },
  {
   "metadata": {},
   "cell_type": "markdown",
   "source": "## 5. 电影数据案例",
   "id": "2f6dd68a8e1633d9"
  },
  {
   "metadata": {
    "ExecuteTime": {
     "end_time": "2025-10-17T06:13:39.865835Z",
     "start_time": "2025-10-17T06:13:39.768814Z"
    }
   },
   "cell_type": "code",
   "source": [
    "movie_df = pd.read_csv(\"data/movie.csv\")\n",
    "movie_df.head()\n"
   ],
   "id": "90145d3964dcf9b0",
   "outputs": [
    {
     "data": {
      "text/plain": [
       "   color      director_name  num_critic_for_reviews  duration  \\\n",
       "0  Color      James Cameron                   723.0     178.0   \n",
       "1  Color     Gore Verbinski                   302.0     169.0   \n",
       "2  Color         Sam Mendes                   602.0     148.0   \n",
       "3  Color  Christopher Nolan                   813.0     164.0   \n",
       "4    NaN        Doug Walker                     NaN       NaN   \n",
       "\n",
       "   director_facebook_likes  actor_3_facebook_likes      actor_2_name  \\\n",
       "0                      0.0                   855.0  Joel David Moore   \n",
       "1                    563.0                  1000.0     Orlando Bloom   \n",
       "2                      0.0                   161.0      Rory Kinnear   \n",
       "3                  22000.0                 23000.0    Christian Bale   \n",
       "4                    131.0                     NaN        Rob Walker   \n",
       "\n",
       "   actor_1_facebook_likes        gross                           genres  ...  \\\n",
       "0                  1000.0  760505847.0  Action|Adventure|Fantasy|Sci-Fi  ...   \n",
       "1                 40000.0  309404152.0         Action|Adventure|Fantasy  ...   \n",
       "2                 11000.0  200074175.0        Action|Adventure|Thriller  ...   \n",
       "3                 27000.0  448130642.0                  Action|Thriller  ...   \n",
       "4                   131.0          NaN                      Documentary  ...   \n",
       "\n",
       "  num_user_for_reviews language  country  content_rating       budget  \\\n",
       "0               3054.0  English      USA           PG-13  237000000.0   \n",
       "1               1238.0  English      USA           PG-13  300000000.0   \n",
       "2                994.0  English       UK           PG-13  245000000.0   \n",
       "3               2701.0  English      USA           PG-13  250000000.0   \n",
       "4                  NaN      NaN      NaN             NaN          NaN   \n",
       "\n",
       "   title_year actor_2_facebook_likes imdb_score  aspect_ratio  \\\n",
       "0      2009.0                  936.0        7.9          1.78   \n",
       "1      2007.0                 5000.0        7.1          2.35   \n",
       "2      2015.0                  393.0        6.8          2.35   \n",
       "3      2012.0                23000.0        8.5          2.35   \n",
       "4         NaN                   12.0        7.1           NaN   \n",
       "\n",
       "  movie_facebook_likes  \n",
       "0                33000  \n",
       "1                    0  \n",
       "2                85000  \n",
       "3               164000  \n",
       "4                    0  \n",
       "\n",
       "[5 rows x 28 columns]"
      ],
      "text/html": [
       "<div>\n",
       "<style scoped>\n",
       "    .dataframe tbody tr th:only-of-type {\n",
       "        vertical-align: middle;\n",
       "    }\n",
       "\n",
       "    .dataframe tbody tr th {\n",
       "        vertical-align: top;\n",
       "    }\n",
       "\n",
       "    .dataframe thead th {\n",
       "        text-align: right;\n",
       "    }\n",
       "</style>\n",
       "<table border=\"1\" class=\"dataframe\">\n",
       "  <thead>\n",
       "    <tr style=\"text-align: right;\">\n",
       "      <th></th>\n",
       "      <th>color</th>\n",
       "      <th>director_name</th>\n",
       "      <th>num_critic_for_reviews</th>\n",
       "      <th>duration</th>\n",
       "      <th>director_facebook_likes</th>\n",
       "      <th>actor_3_facebook_likes</th>\n",
       "      <th>actor_2_name</th>\n",
       "      <th>actor_1_facebook_likes</th>\n",
       "      <th>gross</th>\n",
       "      <th>genres</th>\n",
       "      <th>...</th>\n",
       "      <th>num_user_for_reviews</th>\n",
       "      <th>language</th>\n",
       "      <th>country</th>\n",
       "      <th>content_rating</th>\n",
       "      <th>budget</th>\n",
       "      <th>title_year</th>\n",
       "      <th>actor_2_facebook_likes</th>\n",
       "      <th>imdb_score</th>\n",
       "      <th>aspect_ratio</th>\n",
       "      <th>movie_facebook_likes</th>\n",
       "    </tr>\n",
       "  </thead>\n",
       "  <tbody>\n",
       "    <tr>\n",
       "      <th>0</th>\n",
       "      <td>Color</td>\n",
       "      <td>James Cameron</td>\n",
       "      <td>723.0</td>\n",
       "      <td>178.0</td>\n",
       "      <td>0.0</td>\n",
       "      <td>855.0</td>\n",
       "      <td>Joel David Moore</td>\n",
       "      <td>1000.0</td>\n",
       "      <td>760505847.0</td>\n",
       "      <td>Action|Adventure|Fantasy|Sci-Fi</td>\n",
       "      <td>...</td>\n",
       "      <td>3054.0</td>\n",
       "      <td>English</td>\n",
       "      <td>USA</td>\n",
       "      <td>PG-13</td>\n",
       "      <td>237000000.0</td>\n",
       "      <td>2009.0</td>\n",
       "      <td>936.0</td>\n",
       "      <td>7.9</td>\n",
       "      <td>1.78</td>\n",
       "      <td>33000</td>\n",
       "    </tr>\n",
       "    <tr>\n",
       "      <th>1</th>\n",
       "      <td>Color</td>\n",
       "      <td>Gore Verbinski</td>\n",
       "      <td>302.0</td>\n",
       "      <td>169.0</td>\n",
       "      <td>563.0</td>\n",
       "      <td>1000.0</td>\n",
       "      <td>Orlando Bloom</td>\n",
       "      <td>40000.0</td>\n",
       "      <td>309404152.0</td>\n",
       "      <td>Action|Adventure|Fantasy</td>\n",
       "      <td>...</td>\n",
       "      <td>1238.0</td>\n",
       "      <td>English</td>\n",
       "      <td>USA</td>\n",
       "      <td>PG-13</td>\n",
       "      <td>300000000.0</td>\n",
       "      <td>2007.0</td>\n",
       "      <td>5000.0</td>\n",
       "      <td>7.1</td>\n",
       "      <td>2.35</td>\n",
       "      <td>0</td>\n",
       "    </tr>\n",
       "    <tr>\n",
       "      <th>2</th>\n",
       "      <td>Color</td>\n",
       "      <td>Sam Mendes</td>\n",
       "      <td>602.0</td>\n",
       "      <td>148.0</td>\n",
       "      <td>0.0</td>\n",
       "      <td>161.0</td>\n",
       "      <td>Rory Kinnear</td>\n",
       "      <td>11000.0</td>\n",
       "      <td>200074175.0</td>\n",
       "      <td>Action|Adventure|Thriller</td>\n",
       "      <td>...</td>\n",
       "      <td>994.0</td>\n",
       "      <td>English</td>\n",
       "      <td>UK</td>\n",
       "      <td>PG-13</td>\n",
       "      <td>245000000.0</td>\n",
       "      <td>2015.0</td>\n",
       "      <td>393.0</td>\n",
       "      <td>6.8</td>\n",
       "      <td>2.35</td>\n",
       "      <td>85000</td>\n",
       "    </tr>\n",
       "    <tr>\n",
       "      <th>3</th>\n",
       "      <td>Color</td>\n",
       "      <td>Christopher Nolan</td>\n",
       "      <td>813.0</td>\n",
       "      <td>164.0</td>\n",
       "      <td>22000.0</td>\n",
       "      <td>23000.0</td>\n",
       "      <td>Christian Bale</td>\n",
       "      <td>27000.0</td>\n",
       "      <td>448130642.0</td>\n",
       "      <td>Action|Thriller</td>\n",
       "      <td>...</td>\n",
       "      <td>2701.0</td>\n",
       "      <td>English</td>\n",
       "      <td>USA</td>\n",
       "      <td>PG-13</td>\n",
       "      <td>250000000.0</td>\n",
       "      <td>2012.0</td>\n",
       "      <td>23000.0</td>\n",
       "      <td>8.5</td>\n",
       "      <td>2.35</td>\n",
       "      <td>164000</td>\n",
       "    </tr>\n",
       "    <tr>\n",
       "      <th>4</th>\n",
       "      <td>NaN</td>\n",
       "      <td>Doug Walker</td>\n",
       "      <td>NaN</td>\n",
       "      <td>NaN</td>\n",
       "      <td>131.0</td>\n",
       "      <td>NaN</td>\n",
       "      <td>Rob Walker</td>\n",
       "      <td>131.0</td>\n",
       "      <td>NaN</td>\n",
       "      <td>Documentary</td>\n",
       "      <td>...</td>\n",
       "      <td>NaN</td>\n",
       "      <td>NaN</td>\n",
       "      <td>NaN</td>\n",
       "      <td>NaN</td>\n",
       "      <td>NaN</td>\n",
       "      <td>NaN</td>\n",
       "      <td>12.0</td>\n",
       "      <td>7.1</td>\n",
       "      <td>NaN</td>\n",
       "      <td>0</td>\n",
       "    </tr>\n",
       "  </tbody>\n",
       "</table>\n",
       "<p>5 rows × 28 columns</p>\n",
       "</div>"
      ]
     },
     "execution_count": 6,
     "metadata": {},
     "output_type": "execute_result"
    }
   ],
   "execution_count": 6
  },
  {
   "metadata": {
    "ExecuteTime": {
     "end_time": "2025-10-17T06:13:45.568869Z",
     "start_time": "2025-10-17T06:13:45.562877Z"
    }
   },
   "cell_type": "code",
   "source": [
    "# 2. 从 df 对象中,获取导演的名字\n",
    "director = movie_df['director_name']\n",
    "# print(director)\n",
    "\n",
    "actor_1_fb_likes = movie_df['actor_1_facebook_likes']  # 获取主演的 facebook 点赞数\n",
    "print(actor_1_fb_likes)\n"
   ],
   "id": "a0ec49b2d10acce0",
   "outputs": [
    {
     "name": "stdout",
     "output_type": "stream",
     "text": [
      "0        1000.0\n",
      "1       40000.0\n",
      "2       11000.0\n",
      "3       27000.0\n",
      "4         131.0\n",
      "         ...   \n",
      "4911      637.0\n",
      "4912      841.0\n",
      "4913        0.0\n",
      "4914      946.0\n",
      "4915       86.0\n",
      "Name: actor_1_facebook_likes, Length: 4916, dtype: float64\n"
     ]
    }
   ],
   "execution_count": 8
  },
  {
   "metadata": {
    "ExecuteTime": {
     "end_time": "2025-10-17T06:13:47.663597Z",
     "start_time": "2025-10-17T06:13:47.654033Z"
    }
   },
   "cell_type": "code",
   "source": [
    "# 3. 统计不同导演执导的电影数量\n",
    "# director.value_counts()\n",
    "# 4. 统计主演各个点赞数,即 1000有几个 10000有几个\n",
    "actor_1_fb_likes.value_counts()"
   ],
   "id": "97d86529cd23ced5",
   "outputs": [
    {
     "data": {
      "text/plain": [
       "actor_1_facebook_likes\n",
       "1000.0     436\n",
       "11000.0    206\n",
       "2000.0     189\n",
       "3000.0     150\n",
       "12000.0    131\n",
       "          ... \n",
       "703.0        1\n",
       "208.0        1\n",
       "79.0         1\n",
       "269.0        1\n",
       "291.0        1\n",
       "Name: count, Length: 877, dtype: int64"
      ]
     },
     "execution_count": 9,
     "metadata": {},
     "output_type": "execute_result"
    }
   ],
   "execution_count": 9
  },
  {
   "metadata": {
    "ExecuteTime": {
     "end_time": "2025-10-17T06:13:51.300452Z",
     "start_time": "2025-10-17T06:13:51.290898Z"
    }
   },
   "cell_type": "code",
   "source": [
    "# 5. 统计有多少空值\n",
    "# director.count()  # 统计所有的非空值\n",
    "\n",
    "# director.shape     # 总量\n",
    "\n",
    "# 6. 打印描述信息\n",
    "actor_1_fb_likes.describe()  # 查看描述信息,例如 最大值\\最小值\\平均值\\标准差"
   ],
   "id": "f432fbd026086705",
   "outputs": [
    {
     "data": {
      "text/plain": [
       "count      4909.000000\n",
       "mean       6494.488491\n",
       "std       15106.986884\n",
       "min           0.000000\n",
       "25%         607.000000\n",
       "50%         982.000000\n",
       "75%       11000.000000\n",
       "max      640000.000000\n",
       "Name: actor_1_facebook_likes, dtype: float64"
      ]
     },
     "execution_count": 10,
     "metadata": {},
     "output_type": "execute_result"
    }
   ],
   "execution_count": 10
  },
  {
   "metadata": {},
   "cell_type": "markdown",
   "source": "## 6. Series 的布尔值的操作",
   "id": "8a57b634e0036ae"
  },
  {
   "metadata": {
    "ExecuteTime": {
     "end_time": "2025-10-20T03:05:57.875419Z",
     "start_time": "2025-10-20T03:05:57.841662Z"
    }
   },
   "cell_type": "code",
   "source": [
    "# 1. 读取数据源,获取 df 对象\n",
    "df = pd.read_csv(\"data/scientists.csv\")\n",
    "df"
   ],
   "id": "8522ee33f4511d21",
   "outputs": [
    {
     "data": {
      "text/plain": [
       "                   Name        Born        Died  Age          Occupation\n",
       "0     Rosaline Franklin  1920-07-25  1958-04-16   37             Chemist\n",
       "1        William Gosset  1876-06-13  1937-10-16   61        Statistician\n",
       "2  Florence Nightingale  1820-05-12  1910-08-13   90               Nurse\n",
       "3           Marie Curie  1867-11-07  1934-07-04   66             Chemist\n",
       "4         Rachel Carson  1907-05-27  1964-04-14   56           Biologist\n",
       "5             John Snow  1813-03-15  1858-06-16   45           Physician\n",
       "6           Alan Turing  1912-06-23  1954-06-07   41  Computer Scientist\n",
       "7          Johann Gauss  1777-04-30  1855-02-23   77       Mathematician"
      ],
      "text/html": [
       "<div>\n",
       "<style scoped>\n",
       "    .dataframe tbody tr th:only-of-type {\n",
       "        vertical-align: middle;\n",
       "    }\n",
       "\n",
       "    .dataframe tbody tr th {\n",
       "        vertical-align: top;\n",
       "    }\n",
       "\n",
       "    .dataframe thead th {\n",
       "        text-align: right;\n",
       "    }\n",
       "</style>\n",
       "<table border=\"1\" class=\"dataframe\">\n",
       "  <thead>\n",
       "    <tr style=\"text-align: right;\">\n",
       "      <th></th>\n",
       "      <th>Name</th>\n",
       "      <th>Born</th>\n",
       "      <th>Died</th>\n",
       "      <th>Age</th>\n",
       "      <th>Occupation</th>\n",
       "    </tr>\n",
       "  </thead>\n",
       "  <tbody>\n",
       "    <tr>\n",
       "      <th>0</th>\n",
       "      <td>Rosaline Franklin</td>\n",
       "      <td>1920-07-25</td>\n",
       "      <td>1958-04-16</td>\n",
       "      <td>37</td>\n",
       "      <td>Chemist</td>\n",
       "    </tr>\n",
       "    <tr>\n",
       "      <th>1</th>\n",
       "      <td>William Gosset</td>\n",
       "      <td>1876-06-13</td>\n",
       "      <td>1937-10-16</td>\n",
       "      <td>61</td>\n",
       "      <td>Statistician</td>\n",
       "    </tr>\n",
       "    <tr>\n",
       "      <th>2</th>\n",
       "      <td>Florence Nightingale</td>\n",
       "      <td>1820-05-12</td>\n",
       "      <td>1910-08-13</td>\n",
       "      <td>90</td>\n",
       "      <td>Nurse</td>\n",
       "    </tr>\n",
       "    <tr>\n",
       "      <th>3</th>\n",
       "      <td>Marie Curie</td>\n",
       "      <td>1867-11-07</td>\n",
       "      <td>1934-07-04</td>\n",
       "      <td>66</td>\n",
       "      <td>Chemist</td>\n",
       "    </tr>\n",
       "    <tr>\n",
       "      <th>4</th>\n",
       "      <td>Rachel Carson</td>\n",
       "      <td>1907-05-27</td>\n",
       "      <td>1964-04-14</td>\n",
       "      <td>56</td>\n",
       "      <td>Biologist</td>\n",
       "    </tr>\n",
       "    <tr>\n",
       "      <th>5</th>\n",
       "      <td>John Snow</td>\n",
       "      <td>1813-03-15</td>\n",
       "      <td>1858-06-16</td>\n",
       "      <td>45</td>\n",
       "      <td>Physician</td>\n",
       "    </tr>\n",
       "    <tr>\n",
       "      <th>6</th>\n",
       "      <td>Alan Turing</td>\n",
       "      <td>1912-06-23</td>\n",
       "      <td>1954-06-07</td>\n",
       "      <td>41</td>\n",
       "      <td>Computer Scientist</td>\n",
       "    </tr>\n",
       "    <tr>\n",
       "      <th>7</th>\n",
       "      <td>Johann Gauss</td>\n",
       "      <td>1777-04-30</td>\n",
       "      <td>1855-02-23</td>\n",
       "      <td>77</td>\n",
       "      <td>Mathematician</td>\n",
       "    </tr>\n",
       "  </tbody>\n",
       "</table>\n",
       "</div>"
      ]
     },
     "execution_count": 7,
     "metadata": {},
     "output_type": "execute_result"
    }
   ],
   "execution_count": 7
  },
  {
   "metadata": {
    "ExecuteTime": {
     "end_time": "2025-10-17T08:07:46.544873Z",
     "start_time": "2025-10-17T08:07:46.531464Z"
    }
   },
   "cell_type": "code",
   "source": [
    "# 2. 手动传入布尔值,获取内容\n",
    "bool_list = [True,True,True,True,False,False,False,False]\n",
    "df[bool_list]"
   ],
   "id": "394b2b87350a6a3a",
   "outputs": [
    {
     "data": {
      "text/plain": [
       "                   Name        Born        Died  Age    Occupation\n",
       "0     Rosaline Franklin  1920-07-25  1958-04-16   37       Chemist\n",
       "1        William Gosset  1876-06-13  1937-10-16   61  Statistician\n",
       "2  Florence Nightingale  1820-05-12  1910-08-13   90         Nurse\n",
       "3           Marie Curie  1867-11-07  1934-07-04   66       Chemist"
      ],
      "text/html": [
       "<div>\n",
       "<style scoped>\n",
       "    .dataframe tbody tr th:only-of-type {\n",
       "        vertical-align: middle;\n",
       "    }\n",
       "\n",
       "    .dataframe tbody tr th {\n",
       "        vertical-align: top;\n",
       "    }\n",
       "\n",
       "    .dataframe thead th {\n",
       "        text-align: right;\n",
       "    }\n",
       "</style>\n",
       "<table border=\"1\" class=\"dataframe\">\n",
       "  <thead>\n",
       "    <tr style=\"text-align: right;\">\n",
       "      <th></th>\n",
       "      <th>Name</th>\n",
       "      <th>Born</th>\n",
       "      <th>Died</th>\n",
       "      <th>Age</th>\n",
       "      <th>Occupation</th>\n",
       "    </tr>\n",
       "  </thead>\n",
       "  <tbody>\n",
       "    <tr>\n",
       "      <th>0</th>\n",
       "      <td>Rosaline Franklin</td>\n",
       "      <td>1920-07-25</td>\n",
       "      <td>1958-04-16</td>\n",
       "      <td>37</td>\n",
       "      <td>Chemist</td>\n",
       "    </tr>\n",
       "    <tr>\n",
       "      <th>1</th>\n",
       "      <td>William Gosset</td>\n",
       "      <td>1876-06-13</td>\n",
       "      <td>1937-10-16</td>\n",
       "      <td>61</td>\n",
       "      <td>Statistician</td>\n",
       "    </tr>\n",
       "    <tr>\n",
       "      <th>2</th>\n",
       "      <td>Florence Nightingale</td>\n",
       "      <td>1820-05-12</td>\n",
       "      <td>1910-08-13</td>\n",
       "      <td>90</td>\n",
       "      <td>Nurse</td>\n",
       "    </tr>\n",
       "    <tr>\n",
       "      <th>3</th>\n",
       "      <td>Marie Curie</td>\n",
       "      <td>1867-11-07</td>\n",
       "      <td>1934-07-04</td>\n",
       "      <td>66</td>\n",
       "      <td>Chemist</td>\n",
       "    </tr>\n",
       "  </tbody>\n",
       "</table>\n",
       "</div>"
      ]
     },
     "execution_count": 13,
     "metadata": {},
     "output_type": "execute_result"
    }
   ],
   "execution_count": 13
  },
  {
   "metadata": {
    "ExecuteTime": {
     "end_time": "2025-10-20T03:06:01.069010Z",
     "start_time": "2025-10-20T03:06:01.054579Z"
    }
   },
   "cell_type": "code",
   "source": [
    "# 3. 根据条件传入布尔值,筛选数据\n",
    "# 需求: 删选出 年龄 大于 平均年龄的科学家\n",
    "# 3.1 获取年龄列的数据\n",
    "ages_series = df['Age']\n",
    "\n",
    "\n",
    "# 3.2 计算平均年龄\n",
    "avg_age = ages_series.mean()\n",
    "print(avg_age)\n",
    "\n",
    "# 3.3 判断当前年龄是否大于当前平均年龄；布尔列表\n",
    "data = df[df[\"Age\"] > avg_age ]\n",
    "data"
   ],
   "id": "49e42e9095a83e5",
   "outputs": [
    {
     "name": "stdout",
     "output_type": "stream",
     "text": [
      "59.125\n"
     ]
    },
    {
     "data": {
      "text/plain": [
       "                   Name        Born        Died  Age     Occupation\n",
       "1        William Gosset  1876-06-13  1937-10-16   61   Statistician\n",
       "2  Florence Nightingale  1820-05-12  1910-08-13   90          Nurse\n",
       "3           Marie Curie  1867-11-07  1934-07-04   66        Chemist\n",
       "7          Johann Gauss  1777-04-30  1855-02-23   77  Mathematician"
      ],
      "text/html": [
       "<div>\n",
       "<style scoped>\n",
       "    .dataframe tbody tr th:only-of-type {\n",
       "        vertical-align: middle;\n",
       "    }\n",
       "\n",
       "    .dataframe tbody tr th {\n",
       "        vertical-align: top;\n",
       "    }\n",
       "\n",
       "    .dataframe thead th {\n",
       "        text-align: right;\n",
       "    }\n",
       "</style>\n",
       "<table border=\"1\" class=\"dataframe\">\n",
       "  <thead>\n",
       "    <tr style=\"text-align: right;\">\n",
       "      <th></th>\n",
       "      <th>Name</th>\n",
       "      <th>Born</th>\n",
       "      <th>Died</th>\n",
       "      <th>Age</th>\n",
       "      <th>Occupation</th>\n",
       "    </tr>\n",
       "  </thead>\n",
       "  <tbody>\n",
       "    <tr>\n",
       "      <th>1</th>\n",
       "      <td>William Gosset</td>\n",
       "      <td>1876-06-13</td>\n",
       "      <td>1937-10-16</td>\n",
       "      <td>61</td>\n",
       "      <td>Statistician</td>\n",
       "    </tr>\n",
       "    <tr>\n",
       "      <th>2</th>\n",
       "      <td>Florence Nightingale</td>\n",
       "      <td>1820-05-12</td>\n",
       "      <td>1910-08-13</td>\n",
       "      <td>90</td>\n",
       "      <td>Nurse</td>\n",
       "    </tr>\n",
       "    <tr>\n",
       "      <th>3</th>\n",
       "      <td>Marie Curie</td>\n",
       "      <td>1867-11-07</td>\n",
       "      <td>1934-07-04</td>\n",
       "      <td>66</td>\n",
       "      <td>Chemist</td>\n",
       "    </tr>\n",
       "    <tr>\n",
       "      <th>7</th>\n",
       "      <td>Johann Gauss</td>\n",
       "      <td>1777-04-30</td>\n",
       "      <td>1855-02-23</td>\n",
       "      <td>77</td>\n",
       "      <td>Mathematician</td>\n",
       "    </tr>\n",
       "  </tbody>\n",
       "</table>\n",
       "</div>"
      ]
     },
     "execution_count": 8,
     "metadata": {},
     "output_type": "execute_result"
    }
   ],
   "execution_count": 8
  },
  {
   "metadata": {},
   "cell_type": "markdown",
   "source": "## 7. Series 运算",
   "id": "314a2a26f41db71d"
  },
  {
   "metadata": {
    "ExecuteTime": {
     "end_time": "2025-10-20T03:07:16.977253Z",
     "start_time": "2025-10-20T03:07:16.971243Z"
    }
   },
   "cell_type": "code",
   "source": [
    "# Series和数值变量的计算时, 变量会与 Series 中的每一个元素逐一进行计算\n",
    "# 两个 Series 之间运算,如果 Series 元素个数相同,则两个Series对应的元素进行计算\n",
    "# 元素个数不同的 Series 之间进行计算,会根据索引进行. 索引不同的元素最终计算的结果会填充成缺失值,用 NAN 表示\n",
    "# Series 之间的计算,数据会尽可能依据索引标签进行相互计算\n",
    "rev_series = ages_series.sort_values(ascending=False)\n",
    "rev_series"
   ],
   "id": "ced9806c308f252f",
   "outputs": [
    {
     "data": {
      "text/plain": [
       "2    90\n",
       "7    77\n",
       "3    66\n",
       "1    61\n",
       "4    56\n",
       "5    45\n",
       "6    41\n",
       "0    37\n",
       "Name: Age, dtype: int64"
      ]
     },
     "execution_count": 14,
     "metadata": {},
     "output_type": "execute_result"
    }
   ],
   "execution_count": 14
  },
  {
   "metadata": {
    "ExecuteTime": {
     "end_time": "2025-10-20T03:07:22.712140Z",
     "start_time": "2025-10-20T03:07:22.707710Z"
    }
   },
   "cell_type": "code",
   "source": "ages_series",
   "id": "2262ecd712bf7212",
   "outputs": [
    {
     "data": {
      "text/plain": [
       "0    37\n",
       "1    61\n",
       "2    90\n",
       "3    66\n",
       "4    56\n",
       "5    45\n",
       "6    41\n",
       "7    77\n",
       "Name: Age, dtype: int64"
      ]
     },
     "execution_count": 15,
     "metadata": {},
     "output_type": "execute_result"
    }
   ],
   "execution_count": 15
  },
  {
   "metadata": {
    "ExecuteTime": {
     "end_time": "2025-10-20T03:06:55.152331Z",
     "start_time": "2025-10-20T03:06:55.146179Z"
    }
   },
   "cell_type": "code",
   "source": "rev_series + ages_series",
   "id": "68854ae9e11cef12",
   "outputs": [
    {
     "data": {
      "text/plain": [
       "0     74\n",
       "1    122\n",
       "2    180\n",
       "3    132\n",
       "4    112\n",
       "5     90\n",
       "6     82\n",
       "7    154\n",
       "Name: Age, dtype: int64"
      ]
     },
     "execution_count": 12,
     "metadata": {},
     "output_type": "execute_result"
    }
   ],
   "execution_count": 12
  },
  {
   "metadata": {},
   "cell_type": "markdown",
   "source": "",
   "id": "8f86cb6570975c62"
  }
 ],
 "metadata": {
  "kernelspec": {
   "display_name": "Python 3",
   "language": "python",
   "name": "python3"
  },
  "language_info": {
   "codemirror_mode": {
    "name": "ipython",
    "version": 2
   },
   "file_extension": ".py",
   "mimetype": "text/x-python",
   "name": "python",
   "nbconvert_exporter": "python",
   "pygments_lexer": "ipython2",
   "version": "2.7.6"
  }
 },
 "nbformat": 4,
 "nbformat_minor": 5
}
