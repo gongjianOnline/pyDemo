{
 "cells": [
  {
   "metadata": {},
   "cell_type": "markdown",
   "source": [
    "# Series 对象的创建\n",
    "## 1.1 numpy 的 ndarray 转 Series 对象"
   ],
   "id": "a40bd094f1895b29"
  },
  {
   "metadata": {
    "ExecuteTime": {
     "end_time": "2025-10-14T08:53:24.457786Z",
     "start_time": "2025-10-14T08:53:21.163559Z"
    }
   },
   "cell_type": "code",
   "source": [
    "# 导包\n",
    "import numpy as np\n",
    "import  pandas as pd"
   ],
   "id": "bd4aec54eaf5c072",
   "outputs": [],
   "execution_count": 1
  },
  {
   "metadata": {
    "ExecuteTime": {
     "end_time": "2025-10-14T08:54:10.734405Z",
     "start_time": "2025-10-14T08:54:10.730119Z"
    }
   },
   "cell_type": "code",
   "source": [
    "# 创建 ndarray 对象\n",
    "arr = np.array([1,2,3,4])\n",
    "print(arr)"
   ],
   "id": "78706859eb090f5c",
   "outputs": [
    {
     "name": "stdout",
     "output_type": "stream",
     "text": [
      "[1 2 3 4]\n"
     ]
    }
   ],
   "execution_count": 3
  },
  {
   "metadata": {
    "ExecuteTime": {
     "end_time": "2025-10-14T08:54:51.117783Z",
     "start_time": "2025-10-14T08:54:51.102989Z"
    }
   },
   "cell_type": "code",
   "source": [
    "# 将上述的 ndarray 对象，转为 Series\n",
    "s1 = pd.Series(arr)\n",
    "print(s1)"
   ],
   "id": "838126dfda1172ff",
   "outputs": [
    {
     "name": "stdout",
     "output_type": "stream",
     "text": [
      "0    1\n",
      "1    2\n",
      "2    3\n",
      "3    4\n",
      "dtype: int32\n"
     ]
    }
   ],
   "execution_count": 4
  },
  {
   "metadata": {},
   "cell_type": "markdown",
   "source": "## 1.2 直接传入 Python 列表,构建 Series 对象",
   "id": "e1e50b5c8274a337"
  },
  {
   "metadata": {
    "ExecuteTime": {
     "end_time": "2025-10-14T08:57:46.389169Z",
     "start_time": "2025-10-14T08:57:46.365590Z"
    }
   },
   "cell_type": "code",
   "source": [
    "s2 = pd.Series([\"张三\",\"男\",33])\n",
    "print(s2 )"
   ],
   "id": "79f79f7eaa26838f",
   "outputs": [
    {
     "name": "stdout",
     "output_type": "stream",
     "text": [
      "0    张三\n",
      "1     男\n",
      "2    33\n",
      "dtype: object\n"
     ]
    }
   ],
   "execution_count": 5
  },
  {
   "metadata": {},
   "cell_type": "markdown",
   "source": "## 1.3传入 Python 列表,构建 Series 对象,并执行索引",
   "id": "964ef01e9c05bf31"
  },
  {
   "metadata": {
    "ExecuteTime": {
     "end_time": "2025-10-14T09:02:06.457580Z",
     "start_time": "2025-10-14T09:02:06.447276Z"
    }
   },
   "cell_type": "code",
   "source": [
    "s2 = pd.Series([\"张三\",\"男\",33],index=[\"name\",'sex','age'])\n",
    "print(s2)"
   ],
   "id": "d8f9dde9061afd48",
   "outputs": [
    {
     "name": "stdout",
     "output_type": "stream",
     "text": [
      "name    张三\n",
      "sex      男\n",
      "age     33\n",
      "dtype: object\n"
     ]
    }
   ],
   "execution_count": 6
  },
  {
   "metadata": {},
   "cell_type": "code",
   "outputs": [],
   "execution_count": null,
   "source": "",
   "id": "1245d27387dfa8d8"
  }
 ],
 "metadata": {
  "kernelspec": {
   "display_name": "Python 3",
   "language": "python",
   "name": "python3"
  },
  "language_info": {
   "codemirror_mode": {
    "name": "ipython",
    "version": 2
   },
   "file_extension": ".py",
   "mimetype": "text/x-python",
   "name": "python",
   "nbconvert_exporter": "python",
   "pygments_lexer": "ipython2",
   "version": "2.7.6"
  }
 },
 "nbformat": 4,
 "nbformat_minor": 5
}
