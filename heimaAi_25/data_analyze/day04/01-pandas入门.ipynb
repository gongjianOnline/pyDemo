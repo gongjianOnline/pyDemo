{
 "cells": [
  {
   "metadata": {},
   "cell_type": "markdown",
   "source": [
    "# Series 对象的创建\n",
    "## 1.1 numpy 的 ndarray 转 Series 对象"
   ],
   "id": "a40bd094f1895b29"
  },
  {
   "metadata": {},
   "cell_type": "code",
   "source": [
    "# 导包\n",
    "import numpy as np\n",
    "import  pandas as pd"
   ],
   "id": "bd4aec54eaf5c072",
   "outputs": [],
   "execution_count": null
  },
  {
   "metadata": {},
   "cell_type": "code",
   "source": [
    "# 创建 ndarray 对象\n",
    "arr = np.array([1,2,3,4])\n",
    "print(arr)"
   ],
   "id": "78706859eb090f5c",
   "outputs": [],
   "execution_count": null
  },
  {
   "metadata": {},
   "cell_type": "code",
   "source": [
    "# 将上述的 ndarray 对象，转为 Series\n",
    "s1 = pd.Series(arr)\n",
    "print(s1)"
   ],
   "id": "838126dfda1172ff",
   "outputs": [],
   "execution_count": null
  },
  {
   "metadata": {},
   "cell_type": "markdown",
   "source": "## 1.2 直接传入 Python 列表,构建 Series 对象",
   "id": "e1e50b5c8274a337"
  },
  {
   "metadata": {},
   "cell_type": "code",
   "source": [
    "s2 = pd.Series([\"张三\",\"男\",33])\n",
    "print(s2 )"
   ],
   "id": "79f79f7eaa26838f",
   "outputs": [],
   "execution_count": null
  },
  {
   "metadata": {},
   "cell_type": "markdown",
   "source": "## 1.3传入 Python 列表,构建 Series 对象,并执行索引",
   "id": "964ef01e9c05bf31"
  },
  {
   "metadata": {},
   "cell_type": "code",
   "source": [
    "s2 = pd.Series([\"张三\",\"男\",33],index=[\"name\",'sex','age'])\n",
    "print(s2)"
   ],
   "id": "d8f9dde9061afd48",
   "outputs": [],
   "execution_count": null
  },
  {
   "metadata": {},
   "cell_type": "markdown",
   "source": "## 1.4 通过元组的方式创建",
   "id": "94af79de0ac24703"
  },
  {
   "metadata": {},
   "cell_type": "code",
   "source": [
    "s2 = pd.Series((\"张三\",\"男\",33),index=[\"name\",'sex','age'])\n",
    "print(s2)"
   ],
   "id": "5920372317a55750",
   "outputs": [],
   "execution_count": null
  },
  {
   "metadata": {},
   "cell_type": "markdown",
   "source": "## 1.5 通过字典的方式创建",
   "id": "18b041516a21f222"
  },
  {
   "metadata": {},
   "cell_type": "code",
   "source": [
    "s2 = pd.Series({\"name\":\"张三\",\"sex\":\"男\",\"age\":33})\n",
    "print(s2)"
   ],
   "id": "76883531a6ab760d",
   "outputs": [],
   "execution_count": null
  },
  {
   "metadata": {},
   "cell_type": "markdown",
   "source": [
    "# 2. 创建 DataFrame 对象\n",
    "## 2.1 字典方式构建 df 对象"
   ],
   "id": "25426f9a2fccbeb"
  },
  {
   "metadata": {},
   "cell_type": "code",
   "source": [
    "dict_data = {\n",
    "    \"id\":[1,2,3],\n",
    "    \"name\":[\"张\",\"李\",\"王\"],\n",
    "    \"age\":[20,20,20]\n",
    "}\n",
    "df1 = pd.DataFrame(dict_data) # 字典方式,每组键值对 = 1列数据\n",
    "print(df1)"
   ],
   "id": "bd87c98f2a8e0e7a",
   "outputs": [],
   "execution_count": null
  },
  {
   "metadata": {},
   "cell_type": "markdown",
   "source": "## 2.2 列表 + 元组方式构建df对象",
   "id": "4c381183ae218a3e"
  },
  {
   "metadata": {},
   "cell_type": "code",
   "source": [
    "list_data = [(1,\"乔峰\",33),(2,\"虚竹\",29),(3,\"段誉\",21)]\n",
    "df2 = pd.DataFrame(list_data,index=[\"x\",\"y\",\"z\"],columns=[\"id\",\"name\",\"age\"]) # 以行的方式传入数据,columns是设置:列名\n",
    "print(df2)"
   ],
   "id": "16b72f8b85ef46fe",
   "outputs": [],
   "execution_count": null
  },
  {
   "metadata": {},
   "cell_type": "markdown",
   "source": [
    "## Series 的常用属性方法\n",
    "如下:\n",
    "```python\n",
    "loc             根据 索引行 获取某行数据\n",
    "iloc            根据 行号 获取某行数据\n",
    "dtype 或 dtypes  获取Series 元素类型\n",
    "T               转置函数\n",
    "shape           维度\n",
    "size            大小(元素个数)\n",
    "values          获取所有的值\n",
    "index           获取所有的索引,功能类似于 keys() 方法\n",
    "```"
   ],
   "id": "383e603e904b16f9"
  },
  {
   "metadata": {},
   "cell_type": "code",
   "source": [
    "import os\n",
    "os.getcwd()"
   ],
   "id": "dac843ac7d26293c",
   "outputs": [],
   "execution_count": null
  },
  {
   "metadata": {},
   "cell_type": "code",
   "source": [
    "# 读取 nobel_prizes.csv 文件的内容,获取 df 对象\n",
    "df = pd.read_csv(\"data/nobel_prizes.csv\",index_col=\"id\") # index_col: 设置表中的某列为 索引列.\n",
    "df.head() # 默认获取 5 条数据"
   ],
   "id": "56a96a8f45a1a483",
   "outputs": [],
   "execution_count": null
  },
  {
   "metadata": {},
   "cell_type": "code",
   "source": [
    "# 2. 从上述的 df 对象中,获取第一行数据,即 Series对象\n",
    "# first_row = df.loc[941]\n",
    "# print(first_row)\n",
    "\n",
    "# 使用 iloc 属性: 根据行号获取\n",
    "first_row = df.iloc[0]\n",
    "first_row"
   ],
   "id": "c6fb1a3e9e9dc3b0",
   "outputs": [],
   "execution_count": null
  },
  {
   "metadata": {},
   "cell_type": "code",
   "source": [
    "# 3. Series 对象属性\n",
    "print(first_row.dtype) # 打印 Series 对象的元素类型.object(表示字符串)\n",
    "print(first_row['year'].dtype) # int64\n",
    "print(first_row['firstname'].dtype) # 报错 ,因为 str 属性中没有 dtype 属性"
   ],
   "id": "2b44621a2c544d9a",
   "outputs": [],
   "execution_count": null
  },
  {
   "metadata": {},
   "cell_type": "markdown",
   "source": "## Series 常用方法",
   "id": "ad8beddd25e3b035"
  },
  {
   "metadata": {},
   "cell_type": "code",
   "source": [
    "# 1. 构建 Series 对象\n",
    "s1 = pd.Series([1,2,3,4,5,6,6],index=['A','B','C','D','E',\"F\",\"G\"])\n",
    "print(s1)"
   ],
   "id": "ee14613437d7001d",
   "outputs": [],
   "execution_count": null
  },
  {
   "metadata": {},
   "cell_type": "code",
   "source": [
    "# 2. 演示 Series 对象的 常用方法\n",
    "# print(len(s1))            # 长度:6\n",
    "# print(s1.size)            # 长度:6\n",
    "# print(s1.head())          # 默认获取前 5 条\n",
    "# print(s1.head(n=2))       # 指定获取前 2 条\n",
    "\n",
    "# print(s1.tail())            # 默认获取后 5 条\n",
    "# print(s1.tail(n=3))         # 指定,获取后3条\n",
    "\n",
    "# print(s1.keys())            # 获取 Series 索引\n",
    "# print(s1.index)             # 获取 Series 索引\n",
    "#\n",
    "# print(s1.tolist())         # 转列表\n",
    "# print(s1.to_list())        # 转列表\n",
    "# print(type(s1.tolist()))   # <class 'list'>\n",
    "# print(s1.to_frame())       # 转成 DF 对象\n",
    "\n",
    "# print(s1.describe())       # 查看 Series 的详细信息, 例如: 最大值\\最小值\\平均值\\标准差等\n",
    "# print(s1.max())\n",
    "# print(s1.min())\n",
    "# print(s1.mean())\n",
    "# print(s1.std())             # 标准差\n",
    "\n",
    "# print(s1.drop_duplicates())    # 去重,返回 Series 对象\n",
    "# print(s1.unique())              # 去重,返回数组\n",
    "\n",
    "\n",
    "# print(s1.sort_values())         # 根据 值 排序,默认:升序\n",
    "# print(s1.sort_index(ascending=False))  # 根据 值 降序\n",
    "\n",
    "# print(s1.sort_index())              # 根据 索引 排序,默认 升序\n",
    "# print(s1.sort_index(ascending=False)) # 根据 索引 降序\n",
    "\n",
    "# print(s1.value_counts())        # 统计每个值出现的次数\n",
    "\n",
    "\n",
    "s1.hist()                   # 绘制 直方图\n",
    "\n"
   ],
   "id": "fb5f6275ce026677",
   "outputs": [],
   "execution_count": null
  },
  {
   "metadata": {},
   "cell_type": "markdown",
   "source": "## 5. 电影数据案例",
   "id": "2f6dd68a8e1633d9"
  },
  {
   "metadata": {},
   "cell_type": "code",
   "source": [
    "movie_df = pd.read_csv(\"data/movie.csv\")\n",
    "movie_df.head()\n"
   ],
   "id": "90145d3964dcf9b0",
   "outputs": [],
   "execution_count": null
  },
  {
   "metadata": {},
   "cell_type": "code",
   "source": [
    "# 2. 从 df 对象中,获取导演的名字\n",
    "director = movie_df['director_name']\n",
    "# print(director)\n",
    "\n",
    "actor_1_fb_likes = movie_df['actor_1_facebook_likes']  # 获取主演的 facebook 点赞数\n",
    "print(actor_1_fb_likes)\n"
   ],
   "id": "a0ec49b2d10acce0",
   "outputs": [],
   "execution_count": null
  },
  {
   "metadata": {},
   "cell_type": "code",
   "source": [
    "# 3. 统计不同导演执导的电影数量\n",
    "# director.value_counts()\n",
    "# 4. 统计主演各个点赞数,即 1000有几个 10000有几个\n",
    "actor_1_fb_likes.value_counts()"
   ],
   "id": "97d86529cd23ced5",
   "outputs": [],
   "execution_count": null
  },
  {
   "metadata": {},
   "cell_type": "code",
   "source": [
    "# 5. 统计有多少空值\n",
    "# director.count()  # 统计所有的非空值\n",
    "\n",
    "# director.shape     # 总量\n",
    "\n",
    "# 6. 打印描述信息\n",
    "actor_1_fb_likes.describe()  # 查看描述信息,例如 最大值\\最小值\\平均值\\标准差"
   ],
   "id": "f432fbd026086705",
   "outputs": [],
   "execution_count": null
  }
 ],
 "metadata": {
  "kernelspec": {
   "display_name": "Python 3",
   "language": "python",
   "name": "python3"
  },
  "language_info": {
   "codemirror_mode": {
    "name": "ipython",
    "version": 2
   },
   "file_extension": ".py",
   "mimetype": "text/x-python",
   "name": "python",
   "nbconvert_exporter": "python",
   "pygments_lexer": "ipython2",
   "version": "2.7.6"
  }
 },
 "nbformat": 4,
 "nbformat_minor": 5
}
