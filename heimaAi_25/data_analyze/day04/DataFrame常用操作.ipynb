{
 "cells": [
  {
   "metadata": {},
   "cell_type": "markdown",
   "source": "# DataFrame 常用属性介绍",
   "id": "689f60bf72032b0c"
  },
  {
   "metadata": {},
   "cell_type": "code",
   "source": [
    "from unittest.mock import inplace\n",
    "\n",
    "import numpy as np\n",
    "import pandas as pd"
   ],
   "id": "9b6145ad604a3fc3",
   "outputs": [],
   "execution_count": null
  },
  {
   "metadata": {},
   "cell_type": "markdown",
   "source": "# 1. DataFrame 常用属性",
   "id": "a365edfaf80c3ca9"
  },
  {
   "metadata": {},
   "cell_type": "code",
   "source": [
    "# 1. 加载数据源,获取 df 对象\n",
    "df = pd.read_csv(\"data/scientists.csv\")\n",
    "df"
   ],
   "id": "528b91cc8024e4af",
   "outputs": [],
   "execution_count": null
  },
  {
   "metadata": {},
   "cell_type": "code",
   "source": [
    "# 2. 演示 df 对象的常用属性\n",
    "print(df.ndim)          # 轴(几维数组,就是几轴) 2\n",
    "print(df.shape)         # 维度(几行几列) (8,5)\n",
    "print(df.size)          # 行数 * 列数,包括 NAN  40\n",
    "\n",
    "print(df.columns)       # 获取列名\n",
    "print(df.index)         # 获取 df 对象的 索引列的值\n",
    "print(df.values)        # 获取数据"
   ],
   "id": "4b0ed10fa5f30859",
   "outputs": [],
   "execution_count": null
  },
  {
   "metadata": {},
   "cell_type": "markdown",
   "source": "# 2. DataFrame 对象常用函数",
   "id": "95e45bb58682ad01"
  },
  {
   "metadata": {},
   "cell_type": "code",
   "source": [
    "# print(len(df))          # 行数 8\n",
    "# df.head()               # 获取前五行\n",
    "# df.tail()               # 获取后五行\n",
    "# df.keys()               # 获取所有的列名，等于 df.columns\n",
    "# df.info()               # 查看 df 对象的基本信息\n",
    "# df.describe()           # 查看 df 的统计信息\n",
    "# df.describe(exclude=['int','float'])    # 查看 df 对象的统计信息,除了 int 和 float\n",
    "# df.describe(include='all')    # 查看 df 对象的统计信息,所有类型都看\n",
    "# df[\"Age\"].mean()          # 查找各列的平均值\n",
    "# df.max()                  # 查找各列的最大值\n",
    "# df.min()                  # 查抄各列的最小值\n",
    "# df.count()                  # 统计各列的分控制\n",
    "df.hist()"
   ],
   "id": "7cb0f9854a5e66ce",
   "outputs": [],
   "execution_count": null
  },
  {
   "metadata": {},
   "cell_type": "markdown",
   "source": [
    "# 3. DataFrame 的布尔索引\n",
    "和 series 用法一致"
   ],
   "id": "ad4c76bd0d652fae"
  },
  {
   "metadata": {},
   "cell_type": "code",
   "source": [
    "\"\"\"\n",
    "需求: 查找 movie.csv 文件中,电影时长 >  平均时长的 电影信息\n",
    "读取数据源文件,获取 df 对象\n",
    "\"\"\"\n",
    "movie_df = pd.read_csv(\"data/movie.csv\")\n",
    "movie_df.head()"
   ],
   "id": "1b66812a6f0b9832",
   "outputs": [],
   "execution_count": null
  },
  {
   "metadata": {},
   "cell_type": "code",
   "source": "movie_df[movie_df.duration > movie_df.duration.mean()]",
   "id": "64974a3e4bf3512b",
   "outputs": [],
   "execution_count": null
  },
  {
   "metadata": {},
   "cell_type": "markdown",
   "source": "# 4.DataFrame 对象的计算",
   "id": "ed2b209cb0831b73"
  },
  {
   "metadata": {},
   "cell_type": "code",
   "source": [
    "\"\"\"\n",
    "1. DataFrame 对象和数值运算,就是把数值作用到 每个 DataFrame 身上;\n",
    "\"\"\"\n",
    "df * 2"
   ],
   "id": "dd5fd629dc5b673a",
   "outputs": [],
   "execution_count": null
  },
  {
   "metadata": {},
   "cell_type": "code",
   "source": [
    "# 2. df 和 df运算, 则对应元素直接运行即可\n",
    "df + df"
   ],
   "id": "9b9fd4c463dc6ba5",
   "outputs": [],
   "execution_count": null
  },
  {
   "metadata": {},
   "cell_type": "code",
   "source": [
    "# 3. df 和 df运算, 如果索引不匹配,用NAN填充\n",
    "df + df[0:4]"
   ],
   "id": "55e332c3fcb7330e",
   "outputs": [],
   "execution_count": null
  },
  {
   "metadata": {},
   "cell_type": "markdown",
   "source": "# 5. 更改 Series 和 DataFrame 对象的 行索引,列名",
   "id": "a98594d599f9dbb6"
  },
  {
   "metadata": {},
   "cell_type": "markdown",
   "source": "## 5.1 读取文件后,设置航索引",
   "id": "12ae812c7370817a"
  },
  {
   "metadata": {},
   "cell_type": "code",
   "source": [
    "movie_df = pd.read_csv(\"data/movie.csv\")\n",
    "movie_df.head()"
   ],
   "id": "749abb4763bdc17b",
   "outputs": [],
   "execution_count": null
  },
  {
   "metadata": {},
   "cell_type": "code",
   "source": [
    "# 2. 设置 movie_title(电影名) ,行索引\n",
    "\"\"\"\n",
    "在 pandas 中, 90%以上的函数,都是在源数据拷贝一份进行修改,并返回副本,而这列函数都有一个特点,即 inplace 参数.\n",
    "默认 inplace = False, 即: 返回副本,不修改源数据,如果 inplace = True, 则是直接修改源数据\n",
    "new_movie = movie.set_index('movie_title')\n",
    "new_movie.head()\n",
    "\"\"\"\n",
    "movie_df.set_index('movie_title')"
   ],
   "id": "a8542e0dd156a305",
   "outputs": [],
   "execution_count": null
  },
  {
   "metadata": {},
   "cell_type": "code",
   "source": "## 5.2 读取文件时,设置航索引",
   "id": "5c07c9439fba3d20",
   "outputs": [],
   "execution_count": null
  },
  {
   "metadata": {},
   "cell_type": "code",
   "source": [
    "## 1. 读取数据源文件,获取 df 对象,指定 电影名为索引列\n",
    "movie_df = pd.read_csv(\"data/movie.csv\",index_col='movie_title')\n",
    "movie_df.head()"
   ],
   "id": "459ce7d62f0e961c",
   "outputs": [],
   "execution_count": null
  },
  {
   "metadata": {},
   "cell_type": "code",
   "source": "## 5.3 取消设置的行索引,归为: 系统自动提供的 0~n",
   "id": "220c0ad91288f5bb",
   "outputs": [],
   "execution_count": null
  },
  {
   "metadata": {},
   "cell_type": "code",
   "source": [
    "movie_df.reset_index(inplace=True)\n",
    "movie_df.head()"
   ],
   "id": "6b4dc115ed5766d9",
   "outputs": [],
   "execution_count": null
  },
  {
   "metadata": {},
   "cell_type": "markdown",
   "source": "# 6. 修改 DataFrame 行索引和列名",
   "id": "b07a0ff13164f2d7"
  },
  {
   "metadata": {},
   "cell_type": "code",
   "source": [
    "# 1. 读取数据源文件,获取df对象,指定航索引\n",
    "movie = pd.read_csv(\"data/movie.csv\",index_col='movie_title')\n",
    "movie"
   ],
   "id": "403d0cdce2eb5e46",
   "outputs": [],
   "execution_count": null
  },
  {
   "metadata": {},
   "cell_type": "markdown",
   "source": "### 6.4.1 思路1: rename() 函数直接修改",
   "id": "6a6a0a1c8c59b511"
  },
  {
   "metadata": {},
   "cell_type": "code",
   "source": [
    "# 2. 获取 前五个列名,为方便后续操作\n",
    "movie.index[:5]\n",
    "\n",
    "# 3. 获取 前五个行索引 方便后面更改\n",
    "movie.columns[:5]\n",
    "\n",
    "# 4. 具体的修改 列名 和 行索引的动作\n",
    "idx_name = {'Avatar':'阿凡达',\"Pirates of the Caribbean: At World's End\":\"加勒比海盗\"}\n",
    "col_name = {'color':\"颜色\"}\n",
    "\n",
    "\n",
    "movie.rename(index=idx_name,columns=col_name)"
   ],
   "id": "33e0110b3b57347e",
   "outputs": [],
   "execution_count": null
  },
  {
   "metadata": {},
   "cell_type": "code",
   "source": "movie.columns[:5]",
   "id": "74fadaeb9684d54c",
   "outputs": [],
   "execution_count": null
  },
  {
   "metadata": {},
   "cell_type": "markdown",
   "source": "### 6.4.2 思路2: 将 index 和 column 属性提取出来,修改之后再放回去",
   "id": "e31a5736b0625b54"
  },
  {
   "metadata": {},
   "cell_type": "code",
   "source": [
    "movie = pd.read_csv(\"data/movie.csv\",index_col='movie_title')\n",
    "idx_list = movie.index.tolist()\n",
    "col_list = movie.columns.tolist()\n",
    "\n",
    "idx_list[0] = \"阿凡达\"\n",
    "\n",
    "col_list[0] = \"颜色\"\n",
    "\n",
    "movie.index = idx_list\n",
    "movie.columns = col_list\n",
    "\n",
    "movie.head()"
   ],
   "id": "334e4539850f15fe",
   "outputs": [],
   "execution_count": null
  },
  {
   "metadata": {},
   "cell_type": "markdown",
   "source": "# 7. DataFrame 添加 删除 插入列",
   "id": "162b7953513bef17"
  },
  {
   "metadata": {},
   "cell_type": "code",
   "source": [
    "# 1. 添加列,格式为 df['列名'] = 列值\n",
    "# 新增 1 列, has_sen = 0, 表示是否看过这个电影. 0:没看过,1 看过\n",
    "movie['has_seen'] = 0"
   ],
   "id": "13dbb0c7a0e27b95",
   "outputs": [],
   "execution_count": null
  },
  {
   "metadata": {},
   "cell_type": "code",
   "source": [
    "# 2. 删除列\n",
    "movie.drop('has_seen',axis='columns',inplace=True)\n",
    "movie"
   ],
   "id": "45c160924610325a",
   "outputs": [],
   "execution_count": null
  },
  {
   "metadata": {},
   "cell_type": "code",
   "source": [
    "# 插入列 在索引1的位置插入 profit列 ,他的值(总盈利) = gross(总收入) - budget(总预算)\n",
    "# insert()函数 不是返回副本 而是在 源数据上直接修改\n",
    "movie.insert(loc=1,column='profit',value=movie['gross']-movie['budget'])\n",
    "movie"
   ],
   "id": "b0fdbbf0f675241e",
   "outputs": [],
   "execution_count": null
  },
  {
   "metadata": {},
   "cell_type": "markdown",
   "source": [
    "# 8. DataFrame 导入导出数据\n",
    "## 8.1 pickle 文件简介\n",
    "如果保存的对象是计算的中间结果,或者保存的对象以后会在 Python 中复用,可以把对象保存为 .pickle 文件\n",
    "如果保存成 pickle 文件,只能在 python 中使用\n",
    "文件的扩展名可以是 .p .pkl .pickle\n",
    "示例\n",
    "```python\n",
    "    scientists-nmae = pd.read_pickle(\"xxx.pickle\")\n",
    "    print(scientists)\n",
    "```\n",
    "\n",
    "## 8.2 csv 文件介绍\n",
    "数据协作和共享的首选格式\n",
    "```python\n",
    "    names.to_csv(\"xxx.csv\")\n",
    "    # 设置分隔符 \\t\n",
    "    names.to_csv(\"xxx.csv\",sep=\"\\t\")\n",
    "    # 不在 csv 文件中写行名\n",
    "    names.to_csv(\"xxx.csv\",index=False)\n",
    "```\n",
    "\n",
    "## 8.3 excel文件\n",
    "Series这种数据结构不支持 to_excel 方法,需要先把 Series 转换成 DataFrame\n",
    "```python\n",
    "    names_df = names.to_frame()\n",
    "    import xlwt\n",
    "    names_df.to_excel(\"xxx.xls\")\n",
    "\n",
    "    # 把 DataFrame 保存为 excel\n",
    "    scoentists.to_excel(\"xxx.xlsx\",sheet_name=\"scientists\",index=False)\n",
    "```\n",
    "读取\n",
    "```python\n",
    "    pd.read_excel(\"xxx.xlsx\")\n",
    "\"\"\"\n",
    "    pandas 读写 excel 需要额外安装三个包\n",
    "    pip install -i xlwt openpyxl xlrd\n",
    "\"\"\"\n",
    "```\n",
    "\n"
   ],
   "id": "d068d1251e73b7b9"
  },
  {
   "metadata": {},
   "cell_type": "markdown",
   "source": [
    "### 8.4 其他数据格式\n",
    "feather文件\n",
    "feather 用于存储二进制对象,同时可以再R语言中使用,通常只用于中间数据格式(python和R之间传递数据),一般不用做保存最终数据\n",
    "\n",
    "其他导出方法:\n",
    "to_clipboard        把数据保存在系统剪切板\\方便粘贴\n",
    "to_dict             把数据转成 python 字典\n",
    "to_hdf              把数据保存为 HDF 格式\n",
    "to_html             把数据转换成 HTML\n",
    "to_json             把数据转换成 JSON 字符串\n",
    "to_sql              把数据保存到 SQL 数据库\n"
   ],
   "id": "e7edd876de7e43a4"
  },
  {
   "metadata": {},
   "cell_type": "markdown",
   "source": "#### 示例",
   "id": "e3cd00b6b6782673"
  },
  {
   "metadata": {},
   "cell_type": "code",
   "source": [
    "# 8.1 导出数据\n",
    "df = pd.read_csv(\"data/scientists.csv\")\n",
    "df"
   ],
   "id": "b4bf705c23e19354",
   "outputs": [],
   "execution_count": null
  },
  {
   "metadata": {},
   "cell_type": "code",
   "source": [
    "# 8.2 对上述的 df 做操作,模拟实际开发中,对 df 做处理\n",
    "# 筛选数 年龄 > 平均年龄的数据\n",
    "new_df = df[df.Age > df.Age.mean()]"
   ],
   "id": "ab72b30630e4838b",
   "outputs": [],
   "execution_count": null
  },
  {
   "metadata": {},
   "cell_type": "code",
   "source": [
    "# 8.3 把的 df 对象,写出到目的地中\n",
    "# new_df.to_pickle(\"output/scientists_pickle.pkl\")\n",
    "# new_df.to_excel(\"output/scientists_xls.xlsx\",sheet_name=\"scientists\",index=False)\n",
    "new_df.to_csv(\"output/scientists_csv.csv\",index=False)"
   ],
   "id": "41ae4283281e8896",
   "outputs": [],
   "execution_count": null
  },
  {
   "metadata": {},
   "cell_type": "code",
   "source": [
    "# 导入数据演示\n",
    "# pd.read_pickle(\"output/scientists_pickle.pkl\")\n",
    "# pd.read_excel(\"output/scientists_xls.xlsx\")\n",
    "pd.read_csv(\"output/scientists_csv.csv\")"
   ],
   "id": "fa0f59fce9fd0645",
   "outputs": [],
   "execution_count": null
  }
 ],
 "metadata": {
  "kernelspec": {
   "display_name": "Python 3",
   "language": "python",
   "name": "python3"
  },
  "language_info": {
   "codemirror_mode": {
    "name": "ipython",
    "version": 2
   },
   "file_extension": ".py",
   "mimetype": "text/x-python",
   "name": "python",
   "nbconvert_exporter": "python",
   "pygments_lexer": "ipython2",
   "version": "2.7.6"
  }
 },
 "nbformat": 4,
 "nbformat_minor": 5
}
