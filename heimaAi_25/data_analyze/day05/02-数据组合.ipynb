{
 "cells": [
  {
   "metadata": {
    "ExecuteTime": {
     "end_time": "2025-10-22T01:34:19.059346Z",
     "start_time": "2025-10-22T01:34:19.054782Z"
    }
   },
   "cell_type": "code",
   "source": [
    "import numpy as np\n",
    "import pandas as pd"
   ],
   "id": "2b8d90b31fdcf60e",
   "outputs": [],
   "execution_count": 2
  },
  {
   "metadata": {},
   "cell_type": "markdown",
   "source": "# 1. 数据组合 - concat() 函数",
   "id": "180ed16aca868d5e"
  },
  {
   "metadata": {
    "ExecuteTime": {
     "end_time": "2025-10-22T01:34:26.015769Z",
     "start_time": "2025-10-22T01:34:26.009542Z"
    }
   },
   "cell_type": "code",
   "source": "# 1. 加载数据源,获取 df 对象",
   "id": "39eb335777b997e4",
   "outputs": [
    {
     "data": {
      "text/plain": [
       "<module 'pandas' from 'C:\\\\my\\\\config\\\\RD\\\\anaconda3\\\\Lib\\\\site-packages\\\\pandas\\\\__init__.py'>"
      ]
     },
     "execution_count": 3,
     "metadata": {},
     "output_type": "execute_result"
    }
   ],
   "execution_count": 3
  }
 ],
 "metadata": {
  "kernelspec": {
   "display_name": "Python 3",
   "language": "python",
   "name": "python3"
  },
  "language_info": {
   "codemirror_mode": {
    "name": "ipython",
    "version": 2
   },
   "file_extension": ".py",
   "mimetype": "text/x-python",
   "name": "python",
   "nbconvert_exporter": "python",
   "pygments_lexer": "ipython2",
   "version": "2.7.6"
  }
 },
 "nbformat": 4,
 "nbformat_minor": 5
}
