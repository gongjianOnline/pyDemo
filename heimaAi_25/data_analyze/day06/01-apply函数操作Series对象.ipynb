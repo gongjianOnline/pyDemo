{
 "cells": [
  {
   "metadata": {
    "ExecuteTime": {
     "end_time": "2025-10-24T01:24:00.216009Z",
     "start_time": "2025-10-24T01:23:57.006963Z"
    }
   },
   "cell_type": "code",
   "source": [
    "import numpy as np\n",
    "import pandas as pd"
   ],
   "id": "e098d3ea599c3ed7",
   "outputs": [],
   "execution_count": 1
  },
  {
   "metadata": {},
   "cell_type": "markdown",
   "source": "# 1. apply 函数",
   "id": "df719c974b7d8d5a"
  },
  {
   "metadata": {},
   "cell_type": "code",
   "outputs": [],
   "execution_count": null,
   "source": [
    "\"\"\"\n",
    "apply 函数可以接受一个自定义函数,可以将 DataFrame 的行列数据传递给自定义函数处理\n",
    "apply 函数类似于一个for循环,便利行列元素,但比for循环效率更高\n",
    "\"\"\""
   ],
   "id": "a26727d8019fec27"
  },
  {
   "metadata": {},
   "cell_type": "markdown",
   "source": "## 1.1 apply 函数作用于 Series 对象",
   "id": "2f0e2d064c83908f"
  },
  {
   "metadata": {
    "ExecuteTime": {
     "end_time": "2025-10-23T01:40:33.194568Z",
     "start_time": "2025-10-23T01:40:33.186900Z"
    }
   },
   "cell_type": "code",
   "source": [
    "# 1. 创建 df 对象,给两列值\n",
    "df = pd.DataFrame({'a':[10,20,30],'b':[20,30,40]})\n",
    "df"
   ],
   "id": "2f818fc402f4fd34",
   "outputs": [
    {
     "data": {
      "text/plain": [
       "    a   b\n",
       "0  10  20\n",
       "1  20  30\n",
       "2  30  40"
      ],
      "text/html": [
       "<div>\n",
       "<style scoped>\n",
       "    .dataframe tbody tr th:only-of-type {\n",
       "        vertical-align: middle;\n",
       "    }\n",
       "\n",
       "    .dataframe tbody tr th {\n",
       "        vertical-align: top;\n",
       "    }\n",
       "\n",
       "    .dataframe thead th {\n",
       "        text-align: right;\n",
       "    }\n",
       "</style>\n",
       "<table border=\"1\" class=\"dataframe\">\n",
       "  <thead>\n",
       "    <tr style=\"text-align: right;\">\n",
       "      <th></th>\n",
       "      <th>a</th>\n",
       "      <th>b</th>\n",
       "    </tr>\n",
       "  </thead>\n",
       "  <tbody>\n",
       "    <tr>\n",
       "      <th>0</th>\n",
       "      <td>10</td>\n",
       "      <td>20</td>\n",
       "    </tr>\n",
       "    <tr>\n",
       "      <th>1</th>\n",
       "      <td>20</td>\n",
       "      <td>30</td>\n",
       "    </tr>\n",
       "    <tr>\n",
       "      <th>2</th>\n",
       "      <td>30</td>\n",
       "      <td>40</td>\n",
       "    </tr>\n",
       "  </tbody>\n",
       "</table>\n",
       "</div>"
      ]
     },
     "execution_count": 33,
     "metadata": {},
     "output_type": "execute_result"
    }
   ],
   "execution_count": 33
  },
  {
   "metadata": {
    "ExecuteTime": {
     "end_time": "2025-10-23T01:42:56.109991Z",
     "start_time": "2025-10-23T01:42:56.093306Z"
    }
   },
   "cell_type": "code",
   "source": [
    "# 2. 演示 apply() 函数,操作 Series 对象\n",
    "# 需求1: 自定义函数 my_func1()  实现接受 Series 对象,然后使其每个值变成 其平方结果\n",
    "def my_func1(x):\n",
    "    return x ** 2\n",
    "\n",
    "# 传入 Series 对象,调用 my_func1 函数\n",
    "# 细节 apply()函数会把 my_fun1 函数所用到 Series的每个对象上\n",
    "df.a.apply(my_func1)"
   ],
   "id": "5f3ed04b21863895",
   "outputs": [
    {
     "data": {
      "text/plain": [
       "0    100\n",
       "1    400\n",
       "2    900\n",
       "Name: a, dtype: int64"
      ]
     },
     "execution_count": 35,
     "metadata": {},
     "output_type": "execute_result"
    }
   ],
   "execution_count": 35
  },
  {
   "metadata": {
    "ExecuteTime": {
     "end_time": "2025-10-23T01:48:51.543497Z",
     "start_time": "2025-10-23T01:48:51.535612Z"
    }
   },
   "cell_type": "code",
   "source": [
    "# 需求2: apply传入,需要多个参数的函数,例如: 自定义函数 my_func2(x,e),实现计算 x的e次方\n",
    "def my_fun2(x,e):\n",
    "    return x ** e\n",
    "\n",
    "df.a.apply(my_fun2,e=3)"
   ],
   "id": "ce61e6c670c62d92",
   "outputs": [
    {
     "data": {
      "text/plain": [
       "0     1000\n",
       "1     8000\n",
       "2    27000\n",
       "Name: a, dtype: int64"
      ]
     },
     "execution_count": 39,
     "metadata": {},
     "output_type": "execute_result"
    }
   ],
   "execution_count": 39
  },
  {
   "metadata": {},
   "cell_type": "markdown",
   "source": "## 1.2 apply 函数作用于 DataFrame 对象",
   "id": "8b450a97d023d1a7"
  },
  {
   "metadata": {
    "ExecuteTime": {
     "end_time": "2025-10-23T02:36:13.030167Z",
     "start_time": "2025-10-23T02:36:13.021959Z"
    }
   },
   "cell_type": "code",
   "source": [
    "# 细节 apply() 函数作用于 DF独享.默认传入的是 axis=0 整列数据, 不是Series一样,逐个元素传递\n",
    "# 1. 把上述的 my_func1() 函数,作用到 DF 对象\n",
    "df.apply(my_func1)\n",
    "\n",
    "# 2. 自定义函数 my_func3() , 看看 df 对象到底传入的是什么\n",
    "def my_func3(x):\n",
    "    print(f'x的内容:{x}')\n",
    "    print(f'x的类型:{type(x)}')\n",
    "\n",
    "# 3. 调用上述的my_func3(),作用于:df对象\n",
    "# df.apply(my_func3) # 默认传入的是整列 series对象\n",
    "\n",
    "# 4.加入 axis 参数\n",
    "# df.apply(my_func3,axis=1)       # 0:列 1:行\n",
    "\n",
    "# 如下是一种错误示例,为了引出函数的向量化\n",
    "def avg_3(x,y,z):\n",
    "    return (x+y+z) / 3\n",
    "\n",
    "def avg_3_mod(x):\n",
    "    n1 = x[0]\n",
    "    n2 = x[1]\n",
    "    n3 = x[2]\n",
    "    return (n1 + n2 + n3) / 3\n",
    "df.apply(avg_3_mod)\n"
   ],
   "id": "3448f298087e646c",
   "outputs": [
    {
     "data": {
      "text/plain": [
       "a    20.0\n",
       "b    30.0\n",
       "dtype: float64"
      ]
     },
     "execution_count": 64,
     "metadata": {},
     "output_type": "execute_result"
    }
   ],
   "execution_count": 64
  },
  {
   "metadata": {},
   "cell_type": "markdown",
   "source": "## 2. apply() 函数案例-泰坦尼克号数据集",
   "id": "e17bfe0bfcaff375"
  },
  {
   "metadata": {
    "ExecuteTime": {
     "end_time": "2025-10-23T02:46:54.975205Z",
     "start_time": "2025-10-23T02:46:54.962319Z"
    }
   },
   "cell_type": "code",
   "source": [
    "\"\"\"\n",
    "需求: 自定义函数,分别计算 泰坦尼克号的数据集 某列的缺失值个数,某列的缺失值占比,某列的非缺失值占比\n",
    "# 1. 读取数据源 获取 df 对象\n",
    "\"\"\"\n",
    "titanic = pd.read_csv(\"data/titanic_train.csv\")\n",
    "titanic.head()"
   ],
   "id": "1d63c2f21dacf124",
   "outputs": [
    {
     "data": {
      "text/plain": [
       "   PassengerId  Survived  Pclass  \\\n",
       "0            1         0       3   \n",
       "1            2         1       1   \n",
       "2            3         1       3   \n",
       "3            4         1       1   \n",
       "4            5         0       3   \n",
       "\n",
       "                                                Name     Sex   Age  SibSp  \\\n",
       "0                            Braund, Mr. Owen Harris    male  22.0      1   \n",
       "1  Cumings, Mrs. John Bradley (Florence Briggs Th...  female  38.0      1   \n",
       "2                             Heikkinen, Miss. Laina  female  26.0      0   \n",
       "3       Futrelle, Mrs. Jacques Heath (Lily May Peel)  female  35.0      1   \n",
       "4                           Allen, Mr. William Henry    male  35.0      0   \n",
       "\n",
       "   Parch            Ticket     Fare Cabin Embarked  \n",
       "0      0         A/5 21171   7.2500   NaN        S  \n",
       "1      0          PC 17599  71.2833   C85        C  \n",
       "2      0  STON/O2. 3101282   7.9250   NaN        S  \n",
       "3      0            113803  53.1000  C123        S  \n",
       "4      0            373450   8.0500   NaN        S  "
      ],
      "text/html": [
       "<div>\n",
       "<style scoped>\n",
       "    .dataframe tbody tr th:only-of-type {\n",
       "        vertical-align: middle;\n",
       "    }\n",
       "\n",
       "    .dataframe tbody tr th {\n",
       "        vertical-align: top;\n",
       "    }\n",
       "\n",
       "    .dataframe thead th {\n",
       "        text-align: right;\n",
       "    }\n",
       "</style>\n",
       "<table border=\"1\" class=\"dataframe\">\n",
       "  <thead>\n",
       "    <tr style=\"text-align: right;\">\n",
       "      <th></th>\n",
       "      <th>PassengerId</th>\n",
       "      <th>Survived</th>\n",
       "      <th>Pclass</th>\n",
       "      <th>Name</th>\n",
       "      <th>Sex</th>\n",
       "      <th>Age</th>\n",
       "      <th>SibSp</th>\n",
       "      <th>Parch</th>\n",
       "      <th>Ticket</th>\n",
       "      <th>Fare</th>\n",
       "      <th>Cabin</th>\n",
       "      <th>Embarked</th>\n",
       "    </tr>\n",
       "  </thead>\n",
       "  <tbody>\n",
       "    <tr>\n",
       "      <th>0</th>\n",
       "      <td>1</td>\n",
       "      <td>0</td>\n",
       "      <td>3</td>\n",
       "      <td>Braund, Mr. Owen Harris</td>\n",
       "      <td>male</td>\n",
       "      <td>22.0</td>\n",
       "      <td>1</td>\n",
       "      <td>0</td>\n",
       "      <td>A/5 21171</td>\n",
       "      <td>7.2500</td>\n",
       "      <td>NaN</td>\n",
       "      <td>S</td>\n",
       "    </tr>\n",
       "    <tr>\n",
       "      <th>1</th>\n",
       "      <td>2</td>\n",
       "      <td>1</td>\n",
       "      <td>1</td>\n",
       "      <td>Cumings, Mrs. John Bradley (Florence Briggs Th...</td>\n",
       "      <td>female</td>\n",
       "      <td>38.0</td>\n",
       "      <td>1</td>\n",
       "      <td>0</td>\n",
       "      <td>PC 17599</td>\n",
       "      <td>71.2833</td>\n",
       "      <td>C85</td>\n",
       "      <td>C</td>\n",
       "    </tr>\n",
       "    <tr>\n",
       "      <th>2</th>\n",
       "      <td>3</td>\n",
       "      <td>1</td>\n",
       "      <td>3</td>\n",
       "      <td>Heikkinen, Miss. Laina</td>\n",
       "      <td>female</td>\n",
       "      <td>26.0</td>\n",
       "      <td>0</td>\n",
       "      <td>0</td>\n",
       "      <td>STON/O2. 3101282</td>\n",
       "      <td>7.9250</td>\n",
       "      <td>NaN</td>\n",
       "      <td>S</td>\n",
       "    </tr>\n",
       "    <tr>\n",
       "      <th>3</th>\n",
       "      <td>4</td>\n",
       "      <td>1</td>\n",
       "      <td>1</td>\n",
       "      <td>Futrelle, Mrs. Jacques Heath (Lily May Peel)</td>\n",
       "      <td>female</td>\n",
       "      <td>35.0</td>\n",
       "      <td>1</td>\n",
       "      <td>0</td>\n",
       "      <td>113803</td>\n",
       "      <td>53.1000</td>\n",
       "      <td>C123</td>\n",
       "      <td>S</td>\n",
       "    </tr>\n",
       "    <tr>\n",
       "      <th>4</th>\n",
       "      <td>5</td>\n",
       "      <td>0</td>\n",
       "      <td>3</td>\n",
       "      <td>Allen, Mr. William Henry</td>\n",
       "      <td>male</td>\n",
       "      <td>35.0</td>\n",
       "      <td>0</td>\n",
       "      <td>0</td>\n",
       "      <td>373450</td>\n",
       "      <td>8.0500</td>\n",
       "      <td>NaN</td>\n",
       "      <td>S</td>\n",
       "    </tr>\n",
       "  </tbody>\n",
       "</table>\n",
       "</div>"
      ]
     },
     "execution_count": 66,
     "metadata": {},
     "output_type": "execute_result"
    }
   ],
   "execution_count": 66
  },
  {
   "metadata": {
    "ExecuteTime": {
     "end_time": "2025-10-23T02:58:59.114315Z",
     "start_time": "2025-10-23T02:58:59.101553Z"
    }
   },
   "cell_type": "code",
   "source": [
    "# 2. 定义函数 实现各种需求\n",
    "# 需求1: count_missing(vec),计算某列的缺失值个数\n",
    "def count_missing(vec):\n",
    "    # vec就是接收到 df 独享的某列或者某行数据\n",
    "    return pd.isnull(vec).sum()\n",
    "\n",
    "# 需求2: prop_missing(vec) 计算某列缺失值占比\n",
    "def prop_missing(vec):\n",
    "    # 缺失值占比公式: 某列缺失值数量 / 某列元素总个数\n",
    "    return count_missing(vec) / vec.size\n",
    "\n",
    "# 需求3: prop_complete(vec),计算某列的 非缺失值占比\n",
    "def prop_complete(vec):\n",
    "    return 1- prop_missing(vec)\n",
    "\n",
    "titanic.apply(count_missing)\n",
    "titanic.apply(prop_missing)\n",
    "titanic.apply(prop_complete)"
   ],
   "id": "a7c91911a78064dc",
   "outputs": [
    {
     "data": {
      "text/plain": [
       "PassengerId    1.000000\n",
       "Survived       1.000000\n",
       "Pclass         1.000000\n",
       "Name           1.000000\n",
       "Sex            1.000000\n",
       "Age            0.801347\n",
       "SibSp          1.000000\n",
       "Parch          1.000000\n",
       "Ticket         1.000000\n",
       "Fare           1.000000\n",
       "Cabin          0.228956\n",
       "Embarked       0.997755\n",
       "dtype: float64"
      ]
     },
     "execution_count": 70,
     "metadata": {},
     "output_type": "execute_result"
    }
   ],
   "execution_count": 70
  },
  {
   "metadata": {},
   "cell_type": "markdown",
   "source": "## 3.向量化函数对象介绍 ,np.vectorize",
   "id": "31a5938152902e6a"
  },
  {
   "metadata": {
    "ExecuteTime": {
     "end_time": "2025-10-23T05:11:20.935185Z",
     "start_time": "2025-10-23T05:11:20.926636Z"
    }
   },
   "cell_type": "code",
   "source": [
    " # 1. 创建 df 对象,给两列值\n",
    "df = pd.DataFrame({'a':[10,20,30],'b':[20,30,40]})\n",
    "df"
   ],
   "id": "e8bc29e35706f7f1",
   "outputs": [
    {
     "data": {
      "text/plain": [
       "    a   b\n",
       "0  10  20\n",
       "1  20  30\n",
       "2  30  40"
      ],
      "text/html": [
       "<div>\n",
       "<style scoped>\n",
       "    .dataframe tbody tr th:only-of-type {\n",
       "        vertical-align: middle;\n",
       "    }\n",
       "\n",
       "    .dataframe tbody tr th {\n",
       "        vertical-align: top;\n",
       "    }\n",
       "\n",
       "    .dataframe thead th {\n",
       "        text-align: right;\n",
       "    }\n",
       "</style>\n",
       "<table border=\"1\" class=\"dataframe\">\n",
       "  <thead>\n",
       "    <tr style=\"text-align: right;\">\n",
       "      <th></th>\n",
       "      <th>a</th>\n",
       "      <th>b</th>\n",
       "    </tr>\n",
       "  </thead>\n",
       "  <tbody>\n",
       "    <tr>\n",
       "      <th>0</th>\n",
       "      <td>10</td>\n",
       "      <td>20</td>\n",
       "    </tr>\n",
       "    <tr>\n",
       "      <th>1</th>\n",
       "      <td>20</td>\n",
       "      <td>30</td>\n",
       "    </tr>\n",
       "    <tr>\n",
       "      <th>2</th>\n",
       "      <td>30</td>\n",
       "      <td>40</td>\n",
       "    </tr>\n",
       "  </tbody>\n",
       "</table>\n",
       "</div>"
      ]
     },
     "execution_count": 77,
     "metadata": {},
     "output_type": "execute_result"
    }
   ],
   "execution_count": 77
  },
  {
   "metadata": {
    "ExecuteTime": {
     "end_time": "2025-10-23T05:12:49.737638Z",
     "start_time": "2025-10-23T05:12:49.709605Z"
    }
   },
   "cell_type": "code",
   "source": [
    "def avg_2(x,y):\n",
    "    return (x + y) / 2\n",
    "\n",
    "avg_2(x=df['a'],y=df['b'])\n",
    "\n",
    "# 改造上述代码,程序出问题\n",
    "def avg_2_mod(x,y):\n",
    "    if x == 20:  # 这里会出错,因为 x 是向量(简单理解为一堆纸),20 是标量(1个值)\n",
    "        return np.nan\n",
    "    else:\n",
    "        return (x + y) / 2\n",
    "\n",
    "avg_2_mod(df['a'],df['b'])"
   ],
   "id": "e186a2afcac612bc",
   "outputs": [
    {
     "ename": "ValueError",
     "evalue": "The truth value of a Series is ambiguous. Use a.empty, a.bool(), a.item(), a.any() or a.all().",
     "output_type": "error",
     "traceback": [
      "\u001B[1;31m---------------------------------------------------------------------------\u001B[0m",
      "\u001B[1;31mValueError\u001B[0m                                Traceback (most recent call last)",
      "Cell \u001B[1;32mIn[80], line 13\u001B[0m\n\u001B[0;32m     10\u001B[0m     \u001B[38;5;28;01melse\u001B[39;00m:\n\u001B[0;32m     11\u001B[0m         \u001B[38;5;28;01mreturn\u001B[39;00m (x \u001B[38;5;241m+\u001B[39m y) \u001B[38;5;241m/\u001B[39m \u001B[38;5;241m2\u001B[39m\n\u001B[1;32m---> 13\u001B[0m avg_2_mod(df[\u001B[38;5;124m'\u001B[39m\u001B[38;5;124ma\u001B[39m\u001B[38;5;124m'\u001B[39m],df[\u001B[38;5;124m'\u001B[39m\u001B[38;5;124mb\u001B[39m\u001B[38;5;124m'\u001B[39m])\n",
      "Cell \u001B[1;32mIn[80], line 8\u001B[0m, in \u001B[0;36mavg_2_mod\u001B[1;34m(x, y)\u001B[0m\n\u001B[0;32m      7\u001B[0m \u001B[38;5;28;01mdef\u001B[39;00m \u001B[38;5;21mavg_2_mod\u001B[39m(x,y):\n\u001B[1;32m----> 8\u001B[0m     \u001B[38;5;28;01mif\u001B[39;00m x \u001B[38;5;241m==\u001B[39m \u001B[38;5;241m20\u001B[39m:\n\u001B[0;32m      9\u001B[0m         \u001B[38;5;28;01mreturn\u001B[39;00m np\u001B[38;5;241m.\u001B[39mnan\n\u001B[0;32m     10\u001B[0m     \u001B[38;5;28;01melse\u001B[39;00m:\n",
      "File \u001B[1;32mC:\\my\\config\\RD\\anaconda3\\Lib\\site-packages\\pandas\\core\\generic.py:1577\u001B[0m, in \u001B[0;36mNDFrame.__nonzero__\u001B[1;34m(self)\u001B[0m\n\u001B[0;32m   1575\u001B[0m \u001B[38;5;129m@final\u001B[39m\n\u001B[0;32m   1576\u001B[0m \u001B[38;5;28;01mdef\u001B[39;00m \u001B[38;5;21m__nonzero__\u001B[39m(\u001B[38;5;28mself\u001B[39m) \u001B[38;5;241m-\u001B[39m\u001B[38;5;241m>\u001B[39m NoReturn:\n\u001B[1;32m-> 1577\u001B[0m     \u001B[38;5;28;01mraise\u001B[39;00m \u001B[38;5;167;01mValueError\u001B[39;00m(\n\u001B[0;32m   1578\u001B[0m         \u001B[38;5;124mf\u001B[39m\u001B[38;5;124m\"\u001B[39m\u001B[38;5;124mThe truth value of a \u001B[39m\u001B[38;5;132;01m{\u001B[39;00m\u001B[38;5;28mtype\u001B[39m(\u001B[38;5;28mself\u001B[39m)\u001B[38;5;241m.\u001B[39m\u001B[38;5;18m__name__\u001B[39m\u001B[38;5;132;01m}\u001B[39;00m\u001B[38;5;124m is ambiguous. \u001B[39m\u001B[38;5;124m\"\u001B[39m\n\u001B[0;32m   1579\u001B[0m         \u001B[38;5;124m\"\u001B[39m\u001B[38;5;124mUse a.empty, a.bool(), a.item(), a.any() or a.all().\u001B[39m\u001B[38;5;124m\"\u001B[39m\n\u001B[0;32m   1580\u001B[0m     )\n",
      "\u001B[1;31mValueError\u001B[0m: The truth value of a Series is ambiguous. Use a.empty, a.bool(), a.item(), a.any() or a.all()."
     ]
    }
   ],
   "execution_count": 80
  },
  {
   "metadata": {
    "ExecuteTime": {
     "end_time": "2025-10-23T05:17:30.384913Z",
     "start_time": "2025-10-23T05:17:30.377032Z"
    }
   },
   "cell_type": "code",
   "source": [
    "# 解决思路: 通过 np.vectorize 将上述的函数转成:向量化函数,如果函数中遇到向量了,则内部会自动遍历\n",
    "\n",
    "@np.vectorize\n",
    "def avg_2_mod(x,y):\n",
    "    if x == 20:  # 这里会出错,因为 x 是向量(简单理解为一堆纸),20 是标量(1个值)\n",
    "        return np.nan\n",
    "    else:\n",
    "        return (x + y) / 2\n",
    "\n",
    "avg_2_mod(df['a'],df['b'])\n"
   ],
   "id": "16ee3abcc8d63643",
   "outputs": [
    {
     "data": {
      "text/plain": [
       "array([15., nan, 35.])"
      ]
     },
     "execution_count": 82,
     "metadata": {},
     "output_type": "execute_result"
    }
   ],
   "execution_count": 82
  },
  {
   "metadata": {
    "ExecuteTime": {
     "end_time": "2025-10-23T05:28:13.224955Z",
     "start_time": "2025-10-23T05:28:13.215719Z"
    }
   },
   "cell_type": "code",
   "source": [
    "## 方式二: lambda 方式\n",
    "df.apply(lambda x: x ** 2)"
   ],
   "id": "66cb4cf0db30b33b",
   "outputs": [
    {
     "data": {
      "text/plain": [
       "     a     b\n",
       "0  100   400\n",
       "1  400   900\n",
       "2  900  1600"
      ],
      "text/html": [
       "<div>\n",
       "<style scoped>\n",
       "    .dataframe tbody tr th:only-of-type {\n",
       "        vertical-align: middle;\n",
       "    }\n",
       "\n",
       "    .dataframe tbody tr th {\n",
       "        vertical-align: top;\n",
       "    }\n",
       "\n",
       "    .dataframe thead th {\n",
       "        text-align: right;\n",
       "    }\n",
       "</style>\n",
       "<table border=\"1\" class=\"dataframe\">\n",
       "  <thead>\n",
       "    <tr style=\"text-align: right;\">\n",
       "      <th></th>\n",
       "      <th>a</th>\n",
       "      <th>b</th>\n",
       "    </tr>\n",
       "  </thead>\n",
       "  <tbody>\n",
       "    <tr>\n",
       "      <th>0</th>\n",
       "      <td>100</td>\n",
       "      <td>400</td>\n",
       "    </tr>\n",
       "    <tr>\n",
       "      <th>1</th>\n",
       "      <td>400</td>\n",
       "      <td>900</td>\n",
       "    </tr>\n",
       "    <tr>\n",
       "      <th>2</th>\n",
       "      <td>900</td>\n",
       "      <td>1600</td>\n",
       "    </tr>\n",
       "  </tbody>\n",
       "</table>\n",
       "</div>"
      ]
     },
     "execution_count": 83,
     "metadata": {},
     "output_type": "execute_result"
    }
   ],
   "execution_count": 83
  },
  {
   "metadata": {},
   "cell_type": "markdown",
   "source": "# 分组聚合演变\n",
   "id": "4ed0a2a138cc6c74"
  },
  {
   "metadata": {
    "ExecuteTime": {
     "end_time": "2025-10-23T05:39:22.609411Z",
     "start_time": "2025-10-23T05:39:22.602836Z"
    }
   },
   "cell_type": "code",
   "source": [
    "# 需求4: 使用自定义函数,完成计算平均值\n",
    "df2 = pd.DataFrame({\n",
    "    '城市': ['北京', '北京', '上海', '上海', '广州', '广州'],\n",
    "    '部门': ['销售', '销售', '技术', '技术', '销售', '技术'],\n",
    "    '收入': [8000, 9000, 10000, 11000, 7000, 9500]\n",
    "})"
   ],
   "id": "6c8ca2b89f12ef93",
   "outputs": [],
   "execution_count": 84
  },
  {
   "metadata": {
    "ExecuteTime": {
     "end_time": "2025-10-23T05:51:53.852118Z",
     "start_time": "2025-10-23T05:51:53.844014Z"
    }
   },
   "cell_type": "code",
   "source": [
    "def my_mean(col):\n",
    "    # return col.mean()\n",
    "    return  col.sum() / col.size\n",
    "\n",
    "# 传入我们自定义的函数,计算平均值\n",
    "# df2.groupby(['部门','城市']).agg({'收入':my_mean})\n",
    "df2.groupby(['部门','城市'])['收入'].agg(my_mean)\n",
    "\n",
    "\n",
    "\n"
   ],
   "id": "4516e79c247aeeb5",
   "outputs": [
    {
     "data": {
      "text/plain": [
       "部门  城市\n",
       "技术  上海    10500.0\n",
       "    广州     9500.0\n",
       "销售  北京     8500.0\n",
       "    广州     7000.0\n",
       "Name: 收入, dtype: float64"
      ]
     },
     "execution_count": 90,
     "metadata": {},
     "output_type": "execute_result"
    }
   ],
   "execution_count": 90
  },
  {
   "metadata": {
    "ExecuteTime": {
     "end_time": "2025-10-23T06:21:34.867943Z",
     "start_time": "2025-10-23T06:21:34.856251Z"
    }
   },
   "cell_type": "code",
   "source": [
    "# 需求6 agg() 函数,同时传入多个函数\n",
    "df2.groupby(['部门','城市'])['收入'].agg(['sum','mean','max'])"
   ],
   "id": "a594dc98f844cc2f",
   "outputs": [
    {
     "data": {
      "text/plain": [
       "         sum     mean    max\n",
       "部门 城市                       \n",
       "技术 上海  21000  10500.0  11000\n",
       "   广州   9500   9500.0   9500\n",
       "销售 北京  17000   8500.0   9000\n",
       "   广州   7000   7000.0   7000"
      ],
      "text/html": [
       "<div>\n",
       "<style scoped>\n",
       "    .dataframe tbody tr th:only-of-type {\n",
       "        vertical-align: middle;\n",
       "    }\n",
       "\n",
       "    .dataframe tbody tr th {\n",
       "        vertical-align: top;\n",
       "    }\n",
       "\n",
       "    .dataframe thead th {\n",
       "        text-align: right;\n",
       "    }\n",
       "</style>\n",
       "<table border=\"1\" class=\"dataframe\">\n",
       "  <thead>\n",
       "    <tr style=\"text-align: right;\">\n",
       "      <th></th>\n",
       "      <th></th>\n",
       "      <th>sum</th>\n",
       "      <th>mean</th>\n",
       "      <th>max</th>\n",
       "    </tr>\n",
       "    <tr>\n",
       "      <th>部门</th>\n",
       "      <th>城市</th>\n",
       "      <th></th>\n",
       "      <th></th>\n",
       "      <th></th>\n",
       "    </tr>\n",
       "  </thead>\n",
       "  <tbody>\n",
       "    <tr>\n",
       "      <th rowspan=\"2\" valign=\"top\">技术</th>\n",
       "      <th>上海</th>\n",
       "      <td>21000</td>\n",
       "      <td>10500.0</td>\n",
       "      <td>11000</td>\n",
       "    </tr>\n",
       "    <tr>\n",
       "      <th>广州</th>\n",
       "      <td>9500</td>\n",
       "      <td>9500.0</td>\n",
       "      <td>9500</td>\n",
       "    </tr>\n",
       "    <tr>\n",
       "      <th rowspan=\"2\" valign=\"top\">销售</th>\n",
       "      <th>北京</th>\n",
       "      <td>17000</td>\n",
       "      <td>8500.0</td>\n",
       "      <td>9000</td>\n",
       "    </tr>\n",
       "    <tr>\n",
       "      <th>广州</th>\n",
       "      <td>7000</td>\n",
       "      <td>7000.0</td>\n",
       "      <td>7000</td>\n",
       "    </tr>\n",
       "  </tbody>\n",
       "</table>\n",
       "</div>"
      ]
     },
     "execution_count": 93,
     "metadata": {},
     "output_type": "execute_result"
    }
   ],
   "execution_count": 93
  },
  {
   "metadata": {
    "ExecuteTime": {
     "end_time": "2025-10-23T06:30:19.495045Z",
     "start_time": "2025-10-23T06:30:19.480233Z"
    }
   },
   "cell_type": "code",
   "source": [
    "# 窗口函数展示\n",
    "df2['部门平均'] = df2.groupby('部门')['收入'].transform(\"mean\")\n",
    "df2"
   ],
   "id": "dca073aec4bbe5fc",
   "outputs": [
    {
     "data": {
      "text/plain": [
       "   城市  部门     收入          部门平均\n",
       "0  北京  销售   8000   8000.000000\n",
       "1  北京  销售   9000   8000.000000\n",
       "2  上海  技术  10000  10166.666667\n",
       "3  上海  技术  11000  10166.666667\n",
       "4  广州  销售   7000   8000.000000\n",
       "5  广州  技术   9500  10166.666667"
      ],
      "text/html": [
       "<div>\n",
       "<style scoped>\n",
       "    .dataframe tbody tr th:only-of-type {\n",
       "        vertical-align: middle;\n",
       "    }\n",
       "\n",
       "    .dataframe tbody tr th {\n",
       "        vertical-align: top;\n",
       "    }\n",
       "\n",
       "    .dataframe thead th {\n",
       "        text-align: right;\n",
       "    }\n",
       "</style>\n",
       "<table border=\"1\" class=\"dataframe\">\n",
       "  <thead>\n",
       "    <tr style=\"text-align: right;\">\n",
       "      <th></th>\n",
       "      <th>城市</th>\n",
       "      <th>部门</th>\n",
       "      <th>收入</th>\n",
       "      <th>部门平均</th>\n",
       "    </tr>\n",
       "  </thead>\n",
       "  <tbody>\n",
       "    <tr>\n",
       "      <th>0</th>\n",
       "      <td>北京</td>\n",
       "      <td>销售</td>\n",
       "      <td>8000</td>\n",
       "      <td>8000.000000</td>\n",
       "    </tr>\n",
       "    <tr>\n",
       "      <th>1</th>\n",
       "      <td>北京</td>\n",
       "      <td>销售</td>\n",
       "      <td>9000</td>\n",
       "      <td>8000.000000</td>\n",
       "    </tr>\n",
       "    <tr>\n",
       "      <th>2</th>\n",
       "      <td>上海</td>\n",
       "      <td>技术</td>\n",
       "      <td>10000</td>\n",
       "      <td>10166.666667</td>\n",
       "    </tr>\n",
       "    <tr>\n",
       "      <th>3</th>\n",
       "      <td>上海</td>\n",
       "      <td>技术</td>\n",
       "      <td>11000</td>\n",
       "      <td>10166.666667</td>\n",
       "    </tr>\n",
       "    <tr>\n",
       "      <th>4</th>\n",
       "      <td>广州</td>\n",
       "      <td>销售</td>\n",
       "      <td>7000</td>\n",
       "      <td>8000.000000</td>\n",
       "    </tr>\n",
       "    <tr>\n",
       "      <th>5</th>\n",
       "      <td>广州</td>\n",
       "      <td>技术</td>\n",
       "      <td>9500</td>\n",
       "      <td>10166.666667</td>\n",
       "    </tr>\n",
       "  </tbody>\n",
       "</table>\n",
       "</div>"
      ]
     },
     "execution_count": 97,
     "metadata": {},
     "output_type": "execute_result"
    }
   ],
   "execution_count": 97
  },
  {
   "metadata": {},
   "cell_type": "markdown",
   "source": "## 分组过滤",
   "id": "9cd86b8bedb096be"
  },
  {
   "metadata": {
    "ExecuteTime": {
     "end_time": "2025-10-23T07:19:30.716946Z",
     "start_time": "2025-10-23T07:19:30.694374Z"
    }
   },
   "cell_type": "code",
   "source": [
    "tips = pd.read_csv(\"data/tips.csv\")\n",
    "# tips\n",
    "\n",
    "# 查看吃饭人数的分布情况\n",
    "tips['size'].value_counts()\n",
    "\n",
    "# 发现 1 5 6 个人吃饭次数较少,直接过滤掉这些数据\n",
    "tmp_df = tips.groupby(\"size\").filter(lambda x : x['size'].count() > 10)\n",
    "\n",
    "tmp_df['size'].value_counts()\n"
   ],
   "id": "2573db2e51434ff2",
   "outputs": [
    {
     "data": {
      "text/plain": [
       "size\n",
       "2    156\n",
       "3     38\n",
       "4     37\n",
       "Name: count, dtype: int64"
      ]
     },
     "execution_count": 104,
     "metadata": {},
     "output_type": "execute_result"
    }
   ],
   "execution_count": 104
  },
  {
   "metadata": {},
   "cell_type": "markdown",
   "source": "# 数据透视表",
   "id": "ca7c4ef3aeed2ca0"
  },
  {
   "metadata": {},
   "cell_type": "code",
   "outputs": [],
   "execution_count": null,
   "source": [
    "\"\"\"\n",
    "透视表是一种交互式的表,可以进行某些计算,如求和计数等. 所进行的计算与数据跟数据透视表中的排序有关系\n",
    "透视数据表可以动态改变他们版面的位置,一百年按照不同方式分析数据,也可以重新安排行号、列标和页字段。每一次改变版面布置时,数据透视表会立即按照新的布局重新计算你数据.另外,如果原始数据发生改变则可以更新数据透视表\n",
    "在 Excel 数据分时时,透视表是很常见的功能, pandas 也提供了透视表功能,对应 的 API 为 pivot_table\n",
    "\"\"\"\n",
    "\n",
    "\"\"\"\n",
    "pivot_table函数介绍\n",
    "pandas 有两个 pivot_table 函数\n",
    "pandas.pivot_table\n",
    "pandas.DataFrame.pivot_table\n",
    "pandas.pivot_table 比 pandas.DataFrame.pivot_table 多一个Data参数,data 就是一个 dataFrame ,实际上这两个函数相同\n",
    "pivot_tabe 参数中最重要的四个参数 values index columns aggfunc \n",
    "\n",
    "\"\"\""
   ],
   "id": "c3c5e0cc81ac5f34"
  }
 ],
 "metadata": {
  "kernelspec": {
   "display_name": "Python 3",
   "language": "python",
   "name": "python3"
  },
  "language_info": {
   "codemirror_mode": {
    "name": "ipython",
    "version": 2
   },
   "file_extension": ".py",
   "mimetype": "text/x-python",
   "name": "python",
   "nbconvert_exporter": "python",
   "pygments_lexer": "ipython2",
   "version": "2.7.6"
  }
 },
 "nbformat": 4,
 "nbformat_minor": 5
}
