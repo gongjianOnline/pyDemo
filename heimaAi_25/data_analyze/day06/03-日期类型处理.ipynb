{
 "cells": [
  {
   "cell_type": "code",
   "id": "initial_id",
   "metadata": {
    "collapsed": true,
    "ExecuteTime": {
     "end_time": "2025-10-24T05:57:09.317626Z",
     "start_time": "2025-10-24T05:57:09.313852Z"
    }
   },
   "source": [
    "import numpy as np\n",
    "import pandas as pd\n",
    "from datetime import datetime"
   ],
   "outputs": [],
   "execution_count": 5
  },
  {
   "metadata": {},
   "cell_type": "markdown",
   "source": "# 1. 查看下 python 中的日期类型",
   "id": "95309e42d4b9c035"
  },
  {
   "metadata": {
    "ExecuteTime": {
     "end_time": "2025-10-24T06:13:15.642648Z",
     "start_time": "2025-10-24T06:13:15.635839Z"
    }
   },
   "cell_type": "code",
   "source": [
    "# 方式1 : 获取当前时间\n",
    "t1 = datetime.now()\n",
    "t1"
   ],
   "id": "bdabc7e40ba46054",
   "outputs": [
    {
     "data": {
      "text/plain": [
       "datetime.datetime(2025, 10, 24, 14, 13, 15, 637905)"
      ]
     },
     "execution_count": 10,
     "metadata": {},
     "output_type": "execute_result"
    }
   ],
   "execution_count": 10
  },
  {
   "metadata": {
    "ExecuteTime": {
     "end_time": "2025-10-24T06:20:03.124801Z",
     "start_time": "2025-10-24T06:20:03.120103Z"
    }
   },
   "cell_type": "code",
   "source": [
    "# 方式2: 手动指定时间\n",
    "t2 = pd.to_datetime(\"2024-07-23\")\n",
    "t2\n"
   ],
   "id": "9aa7f9ac30e320ba",
   "outputs": [
    {
     "data": {
      "text/plain": [
       "Timestamp('2024-07-23 00:00:00')"
      ]
     },
     "execution_count": 16,
     "metadata": {},
     "output_type": "execute_result"
    }
   ],
   "execution_count": 16
  },
  {
   "metadata": {},
   "cell_type": "code",
   "outputs": [],
   "execution_count": null,
   "source": [
    "\"\"\"\n",
    "Timestamp 是 pandas 用来替换 python datetime 的\n",
    "可以使用 to_datetime 函数把数据转换成 Timestamp 类型\n",
    "# 加载数据 并把 Data 列表转换为 datetime 对象\n",
    "ebloa = pd.read_csv(\"data/country_timeseries.csv\")\n",
    "# 获取左上角数据\n",
    "ebloa.iloc[:5,:5]\n",
    "\n",
    "从数据中看出 Date列是日期,但通过 info 查看加载后数据为 object 类型\n",
    "ebola.info()\n",
    "可以通过 to_datetime 方法把 Date 列转换为 Timestamp 然后创建新列\n",
    "ebola['date_dt'] = pd.to_datetime(ebola['Date'])\n",
    "ebola.info()\n",
    "\"\"\""
   ],
   "id": "79b8a92aed8415b5"
  },
  {
   "metadata": {},
   "cell_type": "markdown",
   "source": "# 2. panda 中的日期类型",
   "id": "ac86c262f9e505c5"
  },
  {
   "metadata": {
    "ExecuteTime": {
     "end_time": "2025-10-24T06:40:16.324868Z",
     "start_time": "2025-10-24T06:40:16.317614Z"
    }
   },
   "cell_type": "code",
   "source": [
    "# 方式1: 手动创建\n",
    "t1 = pd.Timestamp(2024,7,23)\n",
    "t1 # Pandas 的 Timestamp = Python 的 datetime\n",
    "\n",
    "# 方式2: pd.to_datetime() 也可以把(符合日期格式的)数据转成日期\n",
    "t2 = pd.to_datetime('2024-07-23')\n",
    "t2\n",
    "\n",
    "# 获取 时间差 类型的数据\n",
    "t2 - t1     # Timedelta('0 days 00:00:00')"
   ],
   "id": "39ce1dcc0aa1cdc7",
   "outputs": [
    {
     "data": {
      "text/plain": [
       "Timedelta('0 days 00:00:00')"
      ]
     },
     "execution_count": 22,
     "metadata": {},
     "output_type": "execute_result"
    }
   ],
   "execution_count": 22
  },
  {
   "metadata": {
    "ExecuteTime": {
     "end_time": "2025-10-24T06:49:44.605743Z",
     "start_time": "2025-10-24T06:49:44.586519Z"
    }
   },
   "cell_type": "code",
   "source": [
    "# 方式3: 读取文件的时候,直接指定  某些列为:如期列 前提:这些数据要符合日期要求\n",
    "ebloa = pd.read_csv(\"data/country_timeseries.csv\")\n",
    "# ebloa.head()\n",
    "# ebloa.info()\n",
    "\n",
    "# 将 Date 的字符串类型转换成 timedelta 类型\n",
    "ebloa.loc[:,'new_Date'] = pd.to_datetime(ebloa['Date'])\n",
    "ebloa.info()"
   ],
   "id": "9c9f2681cd91c642",
   "outputs": [
    {
     "name": "stdout",
     "output_type": "stream",
     "text": [
      "<class 'pandas.core.frame.DataFrame'>\n",
      "RangeIndex: 122 entries, 0 to 121\n",
      "Data columns (total 19 columns):\n",
      " #   Column               Non-Null Count  Dtype         \n",
      "---  ------               --------------  -----         \n",
      " 0   Date                 122 non-null    object        \n",
      " 1   Day                  122 non-null    int64         \n",
      " 2   Cases_Guinea         93 non-null     float64       \n",
      " 3   Cases_Liberia        83 non-null     float64       \n",
      " 4   Cases_SierraLeone    87 non-null     float64       \n",
      " 5   Cases_Nigeria        38 non-null     float64       \n",
      " 6   Cases_Senegal        25 non-null     float64       \n",
      " 7   Cases_UnitedStates   18 non-null     float64       \n",
      " 8   Cases_Spain          16 non-null     float64       \n",
      " 9   Cases_Mali           12 non-null     float64       \n",
      " 10  Deaths_Guinea        92 non-null     float64       \n",
      " 11  Deaths_Liberia       81 non-null     float64       \n",
      " 12  Deaths_SierraLeone   87 non-null     float64       \n",
      " 13  Deaths_Nigeria       38 non-null     float64       \n",
      " 14  Deaths_Senegal       22 non-null     float64       \n",
      " 15  Deaths_UnitedStates  18 non-null     float64       \n",
      " 16  Deaths_Spain         16 non-null     float64       \n",
      " 17  Deaths_Mali          12 non-null     float64       \n",
      " 18  new_Date             122 non-null    datetime64[ns]\n",
      "dtypes: datetime64[ns](1), float64(16), int64(1), object(1)\n",
      "memory usage: 18.2+ KB\n"
     ]
    }
   ],
   "execution_count": 28
  },
  {
   "metadata": {
    "ExecuteTime": {
     "end_time": "2025-10-24T06:58:37.341024Z",
     "start_time": "2025-10-24T06:58:37.329931Z"
    }
   },
   "cell_type": "code",
   "source": [
    "# 方法4: 在读取数据的时候直接将类型转换为时间格式, parse_dates 接受的列索引或者是列名\n",
    "ebloa = pd.read_csv(\"data/country_timeseries.csv\",parse_dates=['Date'])\n",
    "ebloa.info()"
   ],
   "id": "c7de057e99720ff3",
   "outputs": [
    {
     "name": "stdout",
     "output_type": "stream",
     "text": [
      "<class 'pandas.core.frame.DataFrame'>\n",
      "RangeIndex: 122 entries, 0 to 121\n",
      "Data columns (total 18 columns):\n",
      " #   Column               Non-Null Count  Dtype         \n",
      "---  ------               --------------  -----         \n",
      " 0   Date                 122 non-null    datetime64[ns]\n",
      " 1   Day                  122 non-null    int64         \n",
      " 2   Cases_Guinea         93 non-null     float64       \n",
      " 3   Cases_Liberia        83 non-null     float64       \n",
      " 4   Cases_SierraLeone    87 non-null     float64       \n",
      " 5   Cases_Nigeria        38 non-null     float64       \n",
      " 6   Cases_Senegal        25 non-null     float64       \n",
      " 7   Cases_UnitedStates   18 non-null     float64       \n",
      " 8   Cases_Spain          16 non-null     float64       \n",
      " 9   Cases_Mali           12 non-null     float64       \n",
      " 10  Deaths_Guinea        92 non-null     float64       \n",
      " 11  Deaths_Liberia       81 non-null     float64       \n",
      " 12  Deaths_SierraLeone   87 non-null     float64       \n",
      " 13  Deaths_Nigeria       38 non-null     float64       \n",
      " 14  Deaths_Senegal       22 non-null     float64       \n",
      " 15  Deaths_UnitedStates  18 non-null     float64       \n",
      " 16  Deaths_Spain         16 non-null     float64       \n",
      " 17  Deaths_Mali          12 non-null     float64       \n",
      "dtypes: datetime64[ns](1), float64(16), int64(1)\n",
      "memory usage: 17.3 KB\n"
     ]
    }
   ],
   "execution_count": 35
  },
  {
   "metadata": {
    "ExecuteTime": {
     "end_time": "2025-10-24T06:58:14.221918Z",
     "start_time": "2025-10-24T06:58:14.217865Z"
    }
   },
   "cell_type": "code",
   "source": "",
   "id": "7fb88a494341271d",
   "outputs": [],
   "execution_count": null
  }
 ],
 "metadata": {
  "kernelspec": {
   "display_name": "Python 3",
   "language": "python",
   "name": "python3"
  },
  "language_info": {
   "codemirror_mode": {
    "name": "ipython",
    "version": 2
   },
   "file_extension": ".py",
   "mimetype": "text/x-python",
   "name": "python",
   "nbconvert_exporter": "python",
   "pygments_lexer": "ipython2",
   "version": "2.7.6"
  }
 },
 "nbformat": 4,
 "nbformat_minor": 5
}
